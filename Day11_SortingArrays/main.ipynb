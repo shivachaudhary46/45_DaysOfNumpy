{
 "cells": [
  {
   "cell_type": "markdown",
   "id": "5cfee111",
   "metadata": {},
   "source": [
    "# Sorting of NumPy Arrays \n",
    "sorting means arranging elements in ordered sequence. \n",
    "\n",
    "Ordered sequence is arranging sequence in any order like numeric, alphabet, ascending and descending. \n",
    "\n",
    "The NumPy ndarray object has a function called sort(). \n",
    "\n",
    "NOTE: This method returns a copy of the array, leaving original array unchanged. "
   ]
  },
  {
   "cell_type": "code",
   "execution_count": 1,
   "id": "6991a9e8",
   "metadata": {},
   "outputs": [
    {
     "name": "stdout",
     "output_type": "stream",
     "text": [
      "sorting array in order :  [-1  0  2  3  4  5]\n"
     ]
    }
   ],
   "source": [
    "import numpy as np\n",
    "\n",
    "arr = np.array([-1, 3, 0, 4, 5, 2])\n",
    "\n",
    "x = np.sort(arr)\n",
    "\n",
    "print(\"sorting array in order : \", x)"
   ]
  },
  {
   "cell_type": "code",
   "execution_count": 3,
   "id": "6af95ed7",
   "metadata": {},
   "outputs": [
    {
     "name": "stdout",
     "output_type": "stream",
     "text": [
      "string sorting : ['a' 'banana' 'cherry' 'e' 'proffessor']\n"
     ]
    }
   ],
   "source": [
    "arr = np.array(['banana', 'cherry', 'proffessor', 'a', 'e'])\n",
    "\n",
    "x = np.sort(arr)\n",
    "\n",
    "print(\"string sorting :\", x)"
   ]
  },
  {
   "cell_type": "code",
   "execution_count": 4,
   "id": "275afa9e",
   "metadata": {},
   "outputs": [
    {
     "name": "stdout",
     "output_type": "stream",
     "text": [
      "boolean array :  [False  True  True]\n"
     ]
    }
   ],
   "source": [
    "arr = np.array([True, False, True])\n",
    "\n",
    "x = np.sort(arr)\n",
    "\n",
    "print(\"boolean array : \", x)"
   ]
  },
  {
   "cell_type": "code",
   "execution_count": 5,
   "id": "2217b0f5",
   "metadata": {},
   "outputs": [
    {
     "name": "stdout",
     "output_type": "stream",
     "text": [
      "sorting 2D array:  [[2 3 4]\n",
      " [0 2 5]]\n"
     ]
    }
   ],
   "source": [
    "# Sorting a 2-D array \n",
    "\n",
    "arr = np.array([[3, 2, 4], [5, 2, 0]])\n",
    "\n",
    "x = np.sort(arr)\n",
    "\n",
    "print('sorting 2D array: ', x)"
   ]
  }
 ],
 "metadata": {
  "kernelspec": {
   "display_name": "myenv",
   "language": "python",
   "name": "python3"
  },
  "language_info": {
   "codemirror_mode": {
    "name": "ipython",
    "version": 3
   },
   "file_extension": ".py",
   "mimetype": "text/x-python",
   "name": "python",
   "nbconvert_exporter": "python",
   "pygments_lexer": "ipython3",
   "version": "3.11.13"
  }
 },
 "nbformat": 4,
 "nbformat_minor": 5
}
