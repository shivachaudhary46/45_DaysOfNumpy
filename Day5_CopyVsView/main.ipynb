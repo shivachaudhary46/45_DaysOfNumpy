{
 "cells": [
  {
   "cell_type": "markdown",
   "id": "13bbfa60",
   "metadata": {},
   "source": [
    "# The Difference Between Copy and View \n",
    "\n",
    "The main difference between copy and a view of an array is that the copy\n",
    "is a new array while view is just looking of the original array. \n",
    "\n",
    "The copy of an array means if we do any changes in the copy of an array then \n",
    "there will not affect original array and any changes made to the orginal array\n",
    "will not affect the copy. \n",
    "\n",
    "But for the view of data, if we do any change in the view array then it will get \n",
    "reflect to original array, any changes made to original array will also get reflect \n",
    "to view array. "
   ]
  },
  {
   "cell_type": "markdown",
   "id": "11dca24a",
   "metadata": {},
   "source": [
    "#### COPY"
   ]
  },
  {
   "cell_type": "code",
   "execution_count": 1,
   "id": "1547417f",
   "metadata": {},
   "outputs": [
    {
     "name": "stdout",
     "output_type": "stream",
     "text": [
      "original array :  [42  2  3  4  5]\n",
      "copy array :  [1 2 3 4 5]\n"
     ]
    }
   ],
   "source": [
    "# Make a copy, Change the original array and display both arrays: \n",
    "import numpy as np \n",
    "\n",
    "arr = np.array([1, 2, 3, 4, 5])\n",
    "x = arr.copy()\n",
    "\n",
    "arr[0] = 42 \n",
    "print(\"original array : \", arr)\n",
    "print(\"copy array : \", x)"
   ]
  },
  {
   "cell_type": "markdown",
   "id": "1827bb86",
   "metadata": {},
   "source": [
    "#### VIEW"
   ]
  },
  {
   "cell_type": "code",
   "execution_count": 2,
   "id": "04d9eb44",
   "metadata": {},
   "outputs": [
    {
     "name": "stdout",
     "output_type": "stream",
     "text": [
      "orgiginal array :  [1 2 3 4 5]\n",
      "view array:  [1 2 3 4 5]\n"
     ]
    }
   ],
   "source": [
    "arr = np.array([1, 2, 3, 4, 5])\n",
    "X = arr.view()\n",
    "print(\"orgiginal array : \", arr)\n",
    "print(\"view array: \", X)"
   ]
  },
  {
   "cell_type": "code",
   "execution_count": 3,
   "id": "4066c074",
   "metadata": {},
   "outputs": [
    {
     "name": "stdout",
     "output_type": "stream",
     "text": [
      "orgiginal array :  [45  2  3  4  5]\n",
      "view array:  [45  2  3  4  5]\n"
     ]
    }
   ],
   "source": [
    "# after changing elements \n",
    "arr[0] = 45\n",
    "print(\"orgiginal array : \", arr)\n",
    "print(\"view array: \", X)"
   ]
  },
  {
   "cell_type": "code",
   "execution_count": 4,
   "id": "4ec7365c",
   "metadata": {},
   "outputs": [
    {
     "name": "stdout",
     "output_type": "stream",
     "text": [
      "original array :  [ 45   2 100   4   5]\n",
      "view array :  [ 45   2 100   4   5]\n"
     ]
    }
   ],
   "source": [
    "X[2] = 100\n",
    "print(\"original array : \", arr)\n",
    "print(\"view array : \", X)"
   ]
  },
  {
   "cell_type": "markdown",
   "id": "6c1cc873",
   "metadata": {},
   "source": [
    "There we see that if we make changes in the original array it will get reflected to the view array as well even though we have not done anything in view array. "
   ]
  },
  {
   "cell_type": "markdown",
   "id": "73e346af",
   "metadata": {},
   "source": [
    "#### Check if Array Owns it data \n",
    "\n",
    "We can use base to check if that the copies owns the data and views does not own the data. "
   ]
  },
  {
   "cell_type": "code",
   "execution_count": 5,
   "id": "7e4bb1cd",
   "metadata": {},
   "outputs": [
    {
     "name": "stdout",
     "output_type": "stream",
     "text": [
      "None\n",
      "[1 2 3 4 5]\n"
     ]
    }
   ],
   "source": [
    "arr = np.array([1, 2, 3, 4, 5])\n",
    "X = arr.copy() \n",
    "y = arr.view()\n",
    "\n",
    "print(X.base)\n",
    "print(y.base)"
   ]
  },
  {
   "cell_type": "markdown",
   "id": "fb2411f9",
   "metadata": {},
   "source": [
    "If we are using view then we can rebase using .base . so that we can check whether an array owns a data. but if we just copied from original array then it will give none value. "
   ]
  }
 ],
 "metadata": {
  "kernelspec": {
   "display_name": "myenv",
   "language": "python",
   "name": "python3"
  },
  "language_info": {
   "codemirror_mode": {
    "name": "ipython",
    "version": 3
   },
   "file_extension": ".py",
   "mimetype": "text/x-python",
   "name": "python",
   "nbconvert_exporter": "python",
   "pygments_lexer": "ipython3",
   "version": "3.11.13"
  }
 },
 "nbformat": 4,
 "nbformat_minor": 5
}
