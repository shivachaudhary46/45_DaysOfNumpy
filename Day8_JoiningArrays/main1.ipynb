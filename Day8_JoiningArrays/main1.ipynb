{
 "cells": [
  {
   "cell_type": "markdown",
   "id": "08e8b3dc",
   "metadata": {},
   "source": [
    "#### Importing necessary Libraries "
   ]
  },
  {
   "cell_type": "code",
   "execution_count": 2,
   "id": "f9c7cc85",
   "metadata": {},
   "outputs": [],
   "source": [
    "import numpy as np "
   ]
  },
  {
   "cell_type": "markdown",
   "id": "6b8f1466",
   "metadata": {},
   "source": [
    "#### Concatenating Array\n",
    "let assume that,\n",
    "\n",
    " arr1 has [a1, b1, c1] and arr2 has [a2, b2, c2]\n",
    "\n",
    "if we concatenate then, concatenated array becomes, \n",
    "\n",
    "concated_arr = [a1, b1, c1, a2, b2, c2]"
   ]
  },
  {
   "cell_type": "code",
   "execution_count": 4,
   "id": "03f6d92d",
   "metadata": {},
   "outputs": [
    {
     "name": "stdout",
     "output_type": "stream",
     "text": [
      "[1 2 3 4 5 6 7]\n"
     ]
    }
   ],
   "source": [
    "arr1 = np.array([1, 2, 3, 4])\n",
    "arr2 = np.array([5, 6, 7])\n",
    "arr = np.concatenate((arr1, arr2))\n",
    "print(arr)"
   ]
  },
  {
   "cell_type": "markdown",
   "id": "d693c69d",
   "metadata": {},
   "source": [
    "#### Stacking Along horizontal \n",
    "let assume that,\n",
    "\n",
    "arr1 has [a1, b1, c1] and arr2 has [a2, b2, c2]\n",
    "\n",
    "if we do hstack, horizontally stack , then array becomes, \n",
    "arr = [a1, b1, c1, a2, b2, c2]"
   ]
  },
  {
   "cell_type": "code",
   "execution_count": 5,
   "id": "6cbde4e7",
   "metadata": {},
   "outputs": [
    {
     "name": "stdout",
     "output_type": "stream",
     "text": [
      "[1 2 3 4 5 6 7]\n"
     ]
    }
   ],
   "source": [
    "arr = np.hstack((arr1, arr2))\n",
    "print(arr)"
   ]
  },
  {
   "cell_type": "markdown",
   "id": "67fe667c",
   "metadata": {},
   "source": [
    "what if array is 2-D ? \n",
    "\n",
    "arr1 has [[a1, b1], [c1, d1]]\n",
    "\n",
    "arr2 has [[a2, b2], [c2, d2]]\n",
    "\n",
    "if we do hstack in 2-D array. then, \n",
    "\n",
    "array becomes, \n",
    "\n",
    "arr = [[a1, b1, a2, b2], [c1, d1, c2, d2]]"
   ]
  },
  {
   "cell_type": "code",
   "execution_count": 6,
   "id": "23e8453f",
   "metadata": {},
   "outputs": [
    {
     "name": "stdout",
     "output_type": "stream",
     "text": [
      "[[1 2 3 4]\n",
      " [3 5 5 7]]\n"
     ]
    }
   ],
   "source": [
    "arr1 = np.array([[1, 2], [3, 5]])\n",
    "arr2 = np.array([[3, 4], [5, 7]])\n",
    "arr = np.hstack((arr1, arr2))\n",
    "print(arr)"
   ]
  },
  {
   "cell_type": "markdown",
   "id": "332f7d82",
   "metadata": {},
   "source": [
    "what if array is 2-D ? \n",
    "\n",
    "arr1 has [[a1, b1], [c1, d1]]\n",
    "\n",
    "arr2 has [[a2, b2], [c2, d2]]\n",
    "\n",
    "if we do vstack in 2-D array. then, \n",
    "\n",
    "array becomes, \n",
    "\n",
    "arr = [[a1, b1], [c1, d1], [a2, b2], [c2, d2]]"
   ]
  },
  {
   "cell_type": "code",
   "execution_count": 7,
   "id": "b973904f",
   "metadata": {},
   "outputs": [
    {
     "name": "stdout",
     "output_type": "stream",
     "text": [
      "vertical stack [[1 2]\n",
      " [3 5]\n",
      " [3 4]\n",
      " [5 7]]\n"
     ]
    }
   ],
   "source": [
    "arr = np.vstack((arr1, arr2))\n",
    "print(\"vertical stack\", arr)   # Vertical stack"
   ]
  },
  {
   "cell_type": "code",
   "execution_count": 8,
   "id": "5e6e3225",
   "metadata": {},
   "outputs": [
    {
     "name": "stdout",
     "output_type": "stream",
     "text": [
      "[1 2 3 4 5 2 3 4 5 6]\n"
     ]
    }
   ],
   "source": [
    "arr1 = np.array([1, 2, 3, 4, 5])\n",
    "arr2 = np.array([2, 3, 4, 5, 6])\n",
    "arr = np.concatenate((arr1, arr2))\n",
    "print(arr)"
   ]
  },
  {
   "cell_type": "markdown",
   "id": "dbf53fa7",
   "metadata": {},
   "source": [
    "what if array is 2-D in concatenation? \n",
    "\n",
    "arr1 has [[a1, b1], [c1, d1]]\n",
    "\n",
    "arr2 has [[a2, b2, c2], [d2, e2, f2]]\n",
    "\n",
    "if we do concatenation in 2-D array. then, \n",
    "\n",
    "array becomes, \n",
    "\n",
    "arr = [[a1, b1, a2, b2, c2], [c1, d1, d2, e2, f2]]"
   ]
  },
  {
   "cell_type": "code",
   "execution_count": 13,
   "id": "0b196c02",
   "metadata": {},
   "outputs": [
    {
     "name": "stdout",
     "output_type": "stream",
     "text": [
      "[[2 3 4]\n",
      " [5 6 7]]\n",
      "[[0.3 0.5 0.3]\n",
      " [1.1 2.3 1.4]]\n",
      "---------------------------------------------\n",
      "[[2.  3.  4.  0.3 0.5 0.3]\n",
      " [5.  6.  7.  1.1 2.3 1.4]]\n"
     ]
    }
   ],
   "source": [
    "arr1 = np.array([[2, 3, 4], [5, 6, 7]])\n",
    "arr2 = np.array([[0.3, 0.5, 0.3], [1.1, 2.3, 1.4]])\n",
    "arr = np.concatenate((arr1, arr2), axis=1)\n",
    "print(arr1)\n",
    "print(arr2)\n",
    "print(\"---------------------------------------------\")\n",
    "print(arr) "
   ]
  },
  {
   "cell_type": "markdown",
   "id": "b94d8a78",
   "metadata": {},
   "source": [
    "what if array is 2-D in concatenation? \n",
    "\n",
    "arr1 has [[a1, b1], [c1, d1]]\n",
    "\n",
    "arr2 has [[a2, b2, c2], [d2, e2, f2]]\n",
    "\n",
    "if we do concatenation in 2-D array. then, \n",
    "\n",
    "array becomes, \n",
    "\n",
    "arr = [[a1, b1], [c1, d1],  [a2, b2, c2], [d2, e2, f2]]"
   ]
  },
  {
   "cell_type": "code",
   "execution_count": 14,
   "id": "f093200c",
   "metadata": {},
   "outputs": [
    {
     "name": "stdout",
     "output_type": "stream",
     "text": [
      "[[2.  3.  4. ]\n",
      " [5.  6.  7. ]\n",
      " [0.3 0.5 0.3]\n",
      " [1.1 2.3 1.4]]\n"
     ]
    }
   ],
   "source": [
    "arr = np.concatenate((arr1, arr2), axis=0)\n",
    "print(arr)"
   ]
  }
 ],
 "metadata": {
  "kernelspec": {
   "display_name": "myenv",
   "language": "python",
   "name": "python3"
  },
  "language_info": {
   "codemirror_mode": {
    "name": "ipython",
    "version": 3
   },
   "file_extension": ".py",
   "mimetype": "text/x-python",
   "name": "python",
   "nbconvert_exporter": "python",
   "pygments_lexer": "ipython3",
   "version": "3.11.13"
  }
 },
 "nbformat": 4,
 "nbformat_minor": 5
}
