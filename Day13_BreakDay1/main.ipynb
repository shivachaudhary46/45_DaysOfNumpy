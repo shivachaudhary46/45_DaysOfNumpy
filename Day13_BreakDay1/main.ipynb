{
 "cells": [
  {
   "cell_type": "markdown",
   "id": "5346545f",
   "metadata": {},
   "source": [
    "# Importing Necessary Arrays"
   ]
  },
  {
   "cell_type": "code",
   "execution_count": 1,
   "id": "03883ebb",
   "metadata": {},
   "outputs": [],
   "source": [
    "import numpy as np "
   ]
  },
  {
   "cell_type": "code",
   "execution_count": 6,
   "id": "3736a33a",
   "metadata": {},
   "outputs": [
    {
     "name": "stdout",
     "output_type": "stream",
     "text": [
      "dimension of the array :  2\n",
      "accessing first row of the array:  [1. 2. 3. 4.]\n",
      "accessing second row of the array:  [ 5. nan  6. nan]\n",
      "slicing the array row 1 col 3:  4.0\n",
      "Note: array indexing always starts from 0, \n"
     ]
    }
   ],
   "source": [
    "arr = np.array([[1, 2, 3, 4], [5, np.nan, 6, np.nan]])\n",
    "\n",
    "print(\"dimension of the array : \", arr.ndim)\n",
    "\n",
    "print(\"accessing first row of the array: \", arr[0])\n",
    "\n",
    "print(\"accessing second row of the array: \", arr[1])\n",
    "\n",
    "print(\"slicing the array row 1 col 3: \", arr[0][3])\n",
    "\n",
    "print(\"Note: array indexing always starts from 0, \")"
   ]
  },
  {
   "cell_type": "code",
   "execution_count": 8,
   "id": "1a692ba5",
   "metadata": {},
   "outputs": [
    {
     "name": "stdout",
     "output_type": "stream",
     "text": [
      "1.0\n",
      "2.0\n",
      "3.0\n",
      "4.0\n",
      "5.0\n",
      "nan\n",
      "6.0\n",
      "nan\n"
     ]
    }
   ],
   "source": [
    "# Iterating the arrays\n",
    "\n",
    "for i in arr:\n",
    "    for j in i:\n",
    "        print(j)"
   ]
  },
  {
   "cell_type": "code",
   "execution_count": 9,
   "id": "ab17e839",
   "metadata": {},
   "outputs": [
    {
     "name": "stdout",
     "output_type": "stream",
     "text": [
      "shape of the array:  (2, 4)\n"
     ]
    }
   ],
   "source": [
    "print(\"shape of the array: \", arr.shape)"
   ]
  },
  {
   "cell_type": "code",
   "execution_count": 12,
   "id": "a5de9f86",
   "metadata": {},
   "outputs": [
    {
     "name": "stdout",
     "output_type": "stream",
     "text": [
      "shape of the 3D array:  (2, 3, 3)\n",
      "3-D array:  [[[ 1.   2.   4. ]\n",
      "  [ 5.   6.   7. ]\n",
      "  [ 8.   9.  10. ]]\n",
      "\n",
      " [[ 1.1  1.2  1.3]\n",
      "  [ 4.   5.   6. ]\n",
      "  [ 7.   8.   9. ]]]\n"
     ]
    }
   ],
   "source": [
    "arr_3D = np.array([[[1, 2, 4], [5, 6, 7], [8, 9, 10]], [[1.1, 1.2, 1.3], [4, 5, 6], [7, 8, 9]]])\n",
    "\n",
    "print(\"shape of the 3D array: \", arr_3D.shape)\n",
    "\n",
    "print(\"3-D array: \", arr_3D)"
   ]
  },
  {
   "cell_type": "code",
   "execution_count": 16,
   "id": "f7853d14",
   "metadata": {},
   "outputs": [
    {
     "name": "stdout",
     "output_type": "stream",
     "text": [
      "reshaping or Flattening array:  [ 1.   2.   4.   5.   6.   7.   8.   9.  10.   1.1  1.2  1.3  4.   5.\n",
      "  6.   7.   8.   9. ]\n"
     ]
    }
   ],
   "source": [
    "print(\"reshaping or Flattening array: \", arr_3D.reshape(-1))"
   ]
  },
  {
   "cell_type": "markdown",
   "id": "79d39843",
   "metadata": {},
   "source": [
    "since there are 18 elements in the array, \n",
    "it we can only reshape in the multiple of the 18 meaning that:\n",
    "\n",
    "3 * 3 * 2 = 18 "
   ]
  },
  {
   "cell_type": "code",
   "execution_count": 20,
   "id": "f2a69a07",
   "metadata": {},
   "outputs": [
    {
     "name": "stdout",
     "output_type": "stream",
     "text": [
      "After reshaping the array:  [[[ 1.   2. ]\n",
      "  [ 4.   5. ]\n",
      "  [ 6.   7. ]]\n",
      "\n",
      " [[ 8.   9. ]\n",
      "  [10.   1.1]\n",
      "  [ 1.2  1.3]]\n",
      "\n",
      " [[ 4.   5. ]\n",
      "  [ 6.   7. ]\n",
      "  [ 8.   9. ]]]\n",
      "first reshaping means that 3 row, 3 row and remaining can be anything\n",
      "After reshaping array:  [[[ 1.   2.   4. ]\n",
      "  [ 5.   6.   7. ]\n",
      "  [ 8.   9.  10. ]]\n",
      "\n",
      " [[ 1.1  1.2  1.3]\n",
      "  [ 4.   5.   6. ]\n",
      "  [ 7.   8.   9. ]]]\n"
     ]
    }
   ],
   "source": [
    "newarr = arr_3D.reshape(3, 3, -1)\n",
    "print(\"After reshaping the array: \", newarr)\n",
    "print(\"first reshaping means that 3 row, 3 row and remaining can be anything\")\n",
    "newarr = arr_3D.reshape(2, 3, -1)\n",
    "print(\"After reshaping array: \", newarr)"
   ]
  },
  {
   "cell_type": "code",
   "execution_count": 23,
   "id": "cf62fe16",
   "metadata": {},
   "outputs": [
    {
     "name": "stdout",
     "output_type": "stream",
     "text": [
      "[ 1.  2.  3.  4.  5. nan  6. nan]\n"
     ]
    }
   ],
   "source": [
    "# NOTE: If there are exactly 8 elements 4, 4 elements in each 2d array then \n",
    "# We can reshape with 8 but flattening is most used. \n",
    "newarr = arr.reshape(8)\n",
    "print(newarr)"
   ]
  },
  {
   "cell_type": "code",
   "execution_count": 24,
   "id": "46a24afd",
   "metadata": {},
   "outputs": [
    {
     "name": "stdout",
     "output_type": "stream",
     "text": [
      "0 [[ 1.  2.  4.]\n",
      " [ 5.  6.  7.]\n",
      " [ 8.  9. 10.]]\n",
      "1 [[1.1 1.2 1.3]\n",
      " [4.  5.  6. ]\n",
      " [7.  8.  9. ]]\n"
     ]
    }
   ],
   "source": [
    "for index, element in enumerate(arr_3D):\n",
    "    print(index, element)"
   ]
  },
  {
   "cell_type": "code",
   "execution_count": 27,
   "id": "9895eddd",
   "metadata": {},
   "outputs": [
    {
     "name": "stdout",
     "output_type": "stream",
     "text": [
      "0 1.0\n",
      "1 2.0\n",
      "2 3.0\n",
      "3 4.0\n",
      "4 5.0\n",
      "5 nan\n",
      "6 6.0\n",
      "7 nan\n"
     ]
    }
   ],
   "source": [
    "for index, element in enumerate(newarr):\n",
    "    print(index, element)"
   ]
  },
  {
   "cell_type": "code",
   "execution_count": 32,
   "id": "a502093b",
   "metadata": {},
   "outputs": [
    {
     "name": "stdout",
     "output_type": "stream",
     "text": [
      "(0, 0, 0) 1.0\n",
      "0 0 0\n",
      "(0, 0, 1) 2.0\n",
      "0 0 0\n",
      "(0, 0, 2) 4.0\n",
      "0 0 0\n",
      "(0, 1, 0) 5.0\n",
      "0 0 0\n",
      "(0, 1, 1) 6.0\n",
      "0 0 0\n",
      "(0, 1, 2) 7.0\n",
      "0 0 0\n",
      "(0, 2, 0) 8.0\n",
      "0 0 0\n",
      "(0, 2, 1) 9.0\n",
      "0 0 0\n",
      "(0, 2, 2) 10.0\n",
      "0 0 0\n",
      "(1, 0, 0) 1.1\n",
      "1 1 1\n",
      "(1, 0, 1) 1.2\n",
      "1 1 1\n",
      "(1, 0, 2) 1.3\n",
      "1 1 1\n",
      "(1, 1, 0) 4.0\n",
      "1 1 1\n",
      "(1, 1, 1) 5.0\n",
      "1 1 1\n",
      "(1, 1, 2) 6.0\n",
      "1 1 1\n",
      "(1, 2, 0) 7.0\n",
      "1 1 1\n",
      "(1, 2, 1) 8.0\n",
      "1 1 1\n",
      "(1, 2, 2) 9.0\n",
      "1 1 1\n"
     ]
    }
   ],
   "source": [
    "for index, element in np.ndenumerate(arr_3D):\n",
    "    print(index, element)\n",
    "    print(index[0], index[0], index[0])"
   ]
  },
  {
   "cell_type": "code",
   "execution_count": 31,
   "id": "3d05a8b8",
   "metadata": {},
   "outputs": [
    {
     "name": "stdout",
     "output_type": "stream",
     "text": [
      "1.0\n",
      "2.0\n",
      "4.0\n",
      "5.0\n",
      "6.0\n",
      "7.0\n",
      "8.0\n",
      "9.0\n",
      "10.0\n",
      "1.1\n",
      "1.2\n",
      "1.3\n",
      "4.0\n",
      "5.0\n",
      "6.0\n",
      "7.0\n",
      "8.0\n",
      "9.0\n"
     ]
    }
   ],
   "source": [
    "for element in np.nditer(arr_3D):\n",
    "    print(element)"
   ]
  },
  {
   "cell_type": "markdown",
   "id": "372da82d",
   "metadata": {},
   "source": [
    "# Concatenating the array"
   ]
  },
  {
   "cell_type": "code",
   "execution_count": 33,
   "id": "81ec64be",
   "metadata": {},
   "outputs": [
    {
     "ename": "TypeError",
     "evalue": "'list' object cannot be interpreted as an integer",
     "output_type": "error",
     "traceback": [
      "\u001b[31m---------------------------------------------------------------------------\u001b[39m",
      "\u001b[31mTypeError\u001b[39m                                 Traceback (most recent call last)",
      "\u001b[36mCell\u001b[39m\u001b[36m \u001b[39m\u001b[32mIn[33]\u001b[39m\u001b[32m, line 3\u001b[39m\n\u001b[32m      1\u001b[39m arr1 = [\u001b[32m1\u001b[39m, \u001b[32m2\u001b[39m, \u001b[32m3\u001b[39m]\n\u001b[32m      2\u001b[39m arr2 = [\u001b[32m3\u001b[39m, \u001b[32m4\u001b[39m, \u001b[32m5\u001b[39m]\n\u001b[32m----> \u001b[39m\u001b[32m3\u001b[39m \u001b[38;5;28mprint\u001b[39m(np.concatenate(arr1, arr2))\n",
      "\u001b[31mTypeError\u001b[39m: 'list' object cannot be interpreted as an integer"
     ]
    }
   ],
   "source": [
    "arr1 = [1, 2, 3]\n",
    "arr2 = [3, 4, 5]\n",
    "print(np.concatenate(arr1, arr2))"
   ]
  },
  {
   "cell_type": "code",
   "execution_count": 37,
   "id": "ce8854e1",
   "metadata": {},
   "outputs": [
    {
     "name": "stdout",
     "output_type": "stream",
     "text": [
      "After concatenating the array:  [1 2 4 5 6 7]\n"
     ]
    }
   ],
   "source": [
    "arr1 = np.array([1, 2, 4])\n",
    "arr2 = np.array([5, 6, 7])\n",
    "\n",
    "newarr = np.concatenate((arr1, arr2))\n",
    "print(\"After concatenating the array: \", newarr)"
   ]
  },
  {
   "cell_type": "code",
   "execution_count": 38,
   "id": "c9ead6bd",
   "metadata": {},
   "outputs": [
    {
     "name": "stdout",
     "output_type": "stream",
     "text": [
      "[[1 2 4]\n",
      " [5 6 7]]\n"
     ]
    }
   ],
   "source": [
    "newarr = np.stack((arr1, arr2))\n",
    "print(newarr)"
   ]
  },
  {
   "cell_type": "code",
   "execution_count": 39,
   "id": "145f98cf",
   "metadata": {},
   "outputs": [
    {
     "name": "stdout",
     "output_type": "stream",
     "text": [
      "[[1 2 4]\n",
      " [5 6 7]]\n"
     ]
    }
   ],
   "source": [
    "newarr = np.vstack((arr1, arr2))\n",
    "print(newarr)"
   ]
  },
  {
   "cell_type": "code",
   "execution_count": 40,
   "id": "85449d96",
   "metadata": {},
   "outputs": [
    {
     "name": "stdout",
     "output_type": "stream",
     "text": [
      "[1 2 4 5 6 7]\n"
     ]
    }
   ],
   "source": [
    "newarr = np.hstack((arr1, arr2))\n",
    "print(newarr)"
   ]
  },
  {
   "cell_type": "code",
   "execution_count": 41,
   "id": "00dbe250",
   "metadata": {},
   "outputs": [
    {
     "name": "stdout",
     "output_type": "stream",
     "text": [
      "[[[1 5]\n",
      "  [2 6]\n",
      "  [4 7]]]\n"
     ]
    }
   ],
   "source": [
    "newarr = np.dstack((arr1, arr2))\n",
    "print(newarr)"
   ]
  },
  {
   "cell_type": "code",
   "execution_count": 42,
   "id": "958d6a0b",
   "metadata": {},
   "outputs": [
    {
     "name": "stdout",
     "output_type": "stream",
     "text": [
      "[[[ 1  2  3]\n",
      "  [ 4  5  6]]\n",
      "\n",
      " [[11 12 13]\n",
      "  [14 15 16]]]\n"
     ]
    }
   ],
   "source": [
    "arr1 = np.array([[1, 2, 3], [4, 5, 6]])\n",
    "arr2 = np.array([[11, 12, 13], [14, 15, 16]])\n",
    "newarr = np.stack((arr1, arr2))\n",
    "print(newarr)"
   ]
  },
  {
   "cell_type": "code",
   "execution_count": 43,
   "id": "6640a847",
   "metadata": {},
   "outputs": [
    {
     "name": "stdout",
     "output_type": "stream",
     "text": [
      "[[ 1  2  3]\n",
      " [ 4  5  6]\n",
      " [11 12 13]\n",
      " [14 15 16]]\n"
     ]
    }
   ],
   "source": [
    "newarr_vstack = np.vstack((arr1, arr2))\n",
    "print(newarr_vstack)"
   ]
  },
  {
   "cell_type": "code",
   "execution_count": 45,
   "id": "94d29451",
   "metadata": {},
   "outputs": [
    {
     "name": "stdout",
     "output_type": "stream",
     "text": [
      "[[ 1  2  3 11 12 13]\n",
      " [ 4  5  6 14 15 16]]\n"
     ]
    }
   ],
   "source": [
    "newarr_hstack = np.hstack((arr1, arr2))\n",
    "print(newarr_hstack)    # [1 2 3 11 12 13]"
   ]
  },
  {
   "cell_type": "code",
   "execution_count": 48,
   "id": "7fa024dd",
   "metadata": {},
   "outputs": [
    {
     "name": "stdout",
     "output_type": "stream",
     "text": [
      "[[1 2 3]\n",
      " [4 5 6]]  \n",
      " [[11 12 13]\n",
      " [14 15 16]]\n"
     ]
    }
   ],
   "source": [
    "print(arr1, \" \\n\", arr2)"
   ]
  },
  {
   "cell_type": "code",
   "execution_count": 46,
   "id": "45b826d3",
   "metadata": {},
   "outputs": [
    {
     "name": "stdout",
     "output_type": "stream",
     "text": [
      "[[[ 1 11]\n",
      "  [ 2 12]\n",
      "  [ 3 13]]\n",
      "\n",
      " [[ 4 14]\n",
      "  [ 5 15]\n",
      "  [ 6 16]]]\n"
     ]
    }
   ],
   "source": [
    "newarr_dstack = np.dstack((arr1, arr2))\n",
    "print(newarr_dstack)"
   ]
  },
  {
   "cell_type": "code",
   "execution_count": 50,
   "id": "4aa78a43",
   "metadata": {},
   "outputs": [
    {
     "name": "stdout",
     "output_type": "stream",
     "text": [
      "[array([[1, 2],\n",
      "       [3, 4]]), array([[5, 6]]), array([[7, 8]]), array([[ 9, 10]])]\n"
     ]
    }
   ],
   "source": [
    "arr = np.array([[1, 2], [3, 4], [5, 6], [7, 8], [9, 10]])\n",
    "newarr = np.array_split(arr, 4)\n",
    "print(newarr)"
   ]
  },
  {
   "cell_type": "code",
   "execution_count": 52,
   "id": "c589d779",
   "metadata": {},
   "outputs": [
    {
     "name": "stdout",
     "output_type": "stream",
     "text": [
      "(array([1, 3, 5, 7, 9], dtype=int64),)\n"
     ]
    }
   ],
   "source": [
    "arr = np.array([1, 2, 3, 4, 5, 6, 7, 8, 9, 10])\n",
    "\n",
    "mask_even_array = np.where(arr % 2 == 0)\n",
    "\n",
    "print(mask_even_array)"
   ]
  },
  {
   "cell_type": "code",
   "execution_count": 54,
   "id": "db646282",
   "metadata": {},
   "outputs": [
    {
     "name": "stdout",
     "output_type": "stream",
     "text": [
      "(array([0, 2, 4, 6, 8], dtype=int64),)\n",
      "Note: it returns the array index\n"
     ]
    }
   ],
   "source": [
    "mask_odd = np.where(arr % 2 == 1)\n",
    "\n",
    "print(mask_odd)\n",
    "\n",
    "print(\"Note: it returns the array index\")"
   ]
  },
  {
   "cell_type": "code",
   "execution_count": 56,
   "id": "14fa72e5",
   "metadata": {},
   "outputs": [
    {
     "name": "stdout",
     "output_type": "stream",
     "text": [
      "3\n",
      "it means that the element = 4 need to be inserted at the index 3 to maintain sorted order\n"
     ]
    }
   ],
   "source": [
    "newarr = np.searchsorted(arr, 4)\n",
    "\n",
    "print(newarr)\n",
    "print(\"it means that the element = 4 need to be inserted at the index 3 to maintain sorted order\")"
   ]
  },
  {
   "cell_type": "code",
   "execution_count": 4,
   "id": "06a54e90",
   "metadata": {},
   "outputs": [
    {
     "name": "stdout",
     "output_type": "stream",
     "text": [
      "sorted array:  [-1  0  2  5]\n"
     ]
    }
   ],
   "source": [
    "import numpy as np\n",
    "arr = np.array([2, -1, 0, 5])\n",
    "newarr = np.sort(arr)\n",
    "print(\"sorted array: \", newarr)"
   ]
  },
  {
   "cell_type": "code",
   "execution_count": null,
   "id": "982d1dd9",
   "metadata": {},
   "outputs": [
    {
     "name": "stdout",
     "output_type": "stream",
     "text": [
      "Filtering array:  []\n"
     ]
    }
   ],
   "source": [
    "masking_array = arr[True, False, True, False]\n",
    "print(\"Filtering array: \", masking_array)"
   ]
  },
  {
   "cell_type": "code",
   "execution_count": 6,
   "id": "848ebcfb",
   "metadata": {},
   "outputs": [
    {
     "name": "stdout",
     "output_type": "stream",
     "text": [
      "Filtering array:  [2 0]\n"
     ]
    }
   ],
   "source": [
    "masking_array = arr[[True, False, True, False]]\n",
    "print(\"Filtering array: \", masking_array)"
   ]
  }
 ],
 "metadata": {
  "kernelspec": {
   "display_name": "myenv",
   "language": "python",
   "name": "python3"
  },
  "language_info": {
   "codemirror_mode": {
    "name": "ipython",
    "version": 3
   },
   "file_extension": ".py",
   "mimetype": "text/x-python",
   "name": "python",
   "nbconvert_exporter": "python",
   "pygments_lexer": "ipython3",
   "version": "3.11.13"
  }
 },
 "nbformat": 4,
 "nbformat_minor": 5
}
