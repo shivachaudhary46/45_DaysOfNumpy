{
 "cells": [
  {
   "cell_type": "markdown",
   "id": "c5eaead2",
   "metadata": {},
   "source": [
    "#### NumPy Splitting Array\n",
    "\n",
    "Splitting is reverse operation of joining. \n",
    "\n",
    "Joining merges multiple arrays into one and splitting breaks one array into multiple.\n",
    "\n",
    "we use array_split() for splitting arrays and we pass \n",
    "\n",
    "np.array_split(previous_arr, return value of list containing three arrays) "
   ]
  },
  {
   "cell_type": "code",
   "execution_count": 1,
   "id": "50f934b5",
   "metadata": {},
   "outputs": [],
   "source": [
    "import numpy as np"
   ]
  },
  {
   "cell_type": "code",
   "execution_count": 2,
   "id": "5b73ceef",
   "metadata": {},
   "outputs": [
    {
     "name": "stdout",
     "output_type": "stream",
     "text": [
      "splitted array with array_split:  [array([1, 2, 3]), array([4, 5, 6]), array([7, 8])]\n"
     ]
    }
   ],
   "source": [
    "arr = np.array([1, 2, 3, 4, 5, 6, 7, 8])\n",
    "newarr = np.array_split(arr, 3)\n",
    "print(\"splitted array with array_split: \", newarr)"
   ]
  },
  {
   "cell_type": "code",
   "execution_count": 4,
   "id": "e0b7b7eb",
   "metadata": {},
   "outputs": [
    {
     "name": "stdout",
     "output_type": "stream",
     "text": [
      "What if array has less amount of elements then,  [array([1, 2]), array([3]), array([4]), array([5]), array([6])]\n"
     ]
    }
   ],
   "source": [
    "# if array has less elements then, it will adjust\n",
    "arr = np.array([1, 2, 3, 4, 5, 6])\n",
    "new_arr = np.array_split(arr, 5)\n",
    "print(\"What if array has less amount of elements then, \", new_arr)"
   ]
  },
  {
   "cell_type": "markdown",
   "id": "faa1997c",
   "metadata": {},
   "source": [
    "We also have split function but it will not adjust the elements when elements are less in source like array_split does. "
   ]
  },
  {
   "cell_type": "code",
   "execution_count": 6,
   "id": "84ed1a0b",
   "metadata": {},
   "outputs": [
    {
     "name": "stdout",
     "output_type": "stream",
     "text": [
      "[1 2]\n",
      "[3 4]\n",
      "[5 6]\n",
      "[array([1, 2]), array([3, 4]), array([5, 6])]\n"
     ]
    }
   ],
   "source": [
    "newarr = np.array_split(arr, 3)\n",
    "# We can access the elements of the array_split() by just like any array element you access.\n",
    "print(newarr[0])\n",
    "print(newarr[1])\n",
    "print(newarr[2])\n",
    "print(newarr)"
   ]
  },
  {
   "cell_type": "markdown",
   "id": "b5979821",
   "metadata": {},
   "source": [
    "while splitting the 2D arrays by using array_split() method pass the array you want to split and number of the splits you want to make. or how many small array you need. "
   ]
  },
  {
   "cell_type": "code",
   "execution_count": 7,
   "id": "c94d45d5",
   "metadata": {},
   "outputs": [
    {
     "name": "stdout",
     "output_type": "stream",
     "text": [
      "[array([[1, 2],\n",
      "       [2, 3]]), array([[4, 5],\n",
      "       [6, 7]]), array([[ 8,  9],\n",
      "       [10, 11]])]\n"
     ]
    }
   ],
   "source": [
    "arr = np.array([[1, 2], [2, 3], [4, 5], [6, 7], [8, 9], [10, 11]])\n",
    "newarr = np.array_split(arr, 3)\n",
    "print(newarr)"
   ]
  },
  {
   "cell_type": "code",
   "execution_count": 8,
   "id": "6e7c11a2",
   "metadata": {},
   "outputs": [
    {
     "name": "stdout",
     "output_type": "stream",
     "text": [
      "splitting the 2D array in 4 small arrays :  [array([[1, 2, 3],\n",
      "       [4, 5, 6]]), array([[ 7,  8,  9],\n",
      "       [11, 12, 13]]), array([[14, 15, 16]]), array([[17, 18, 19]])]\n"
     ]
    }
   ],
   "source": [
    "arr = np.array([[1, 2, 3], [4, 5, 6], [7, 8, 9], [11, 12, 13], [14, 15, 16], [17, 18, 19]])\n",
    "newarr = np.array_split(arr, 4)\n",
    "print(\"splitting the 2D array in 4 small arrays : \", newarr)"
   ]
  },
  {
   "cell_type": "markdown",
   "id": "c51762b2",
   "metadata": {},
   "source": [
    "this is the example how can you split around, and if the array elements is lesser then the\n",
    "array split wil manage on its own. "
   ]
  },
  {
   "cell_type": "markdown",
   "id": "d71fbf9a",
   "metadata": {},
   "source": [
    "if we have to split the array by row wise, \n",
    "\n",
    "arr1 = [[a1, b1, c1], [a2, b2, c2], [a3, b3, c3], [a4, b4, c4]]\n",
    "\n",
    "if we use split with row wise, \n",
    "\n",
    "splited_array becomes = [[a1, a2, a3, a4], [b1, b2, b3, b4], [c1, c2, c3, c4]] "
   ]
  },
  {
   "cell_type": "code",
   "execution_count": 9,
   "id": "a863ae5a",
   "metadata": {},
   "outputs": [
    {
     "name": "stdout",
     "output_type": "stream",
     "text": [
      "splitting the axis as row:  [array([[ 1],\n",
      "       [ 4],\n",
      "       [ 7],\n",
      "       [11],\n",
      "       [14],\n",
      "       [17]]), array([[ 2],\n",
      "       [ 5],\n",
      "       [ 8],\n",
      "       [12],\n",
      "       [15],\n",
      "       [18]]), array([[ 3],\n",
      "       [ 6],\n",
      "       [ 9],\n",
      "       [13],\n",
      "       [16],\n",
      "       [19]])]\n"
     ]
    }
   ],
   "source": [
    "newarr = np.array_split(arr, 3, axis=1) ## row split \n",
    "print(\"splitting the axis as row: \", newarr)"
   ]
  },
  {
   "cell_type": "markdown",
   "id": "ec7000d5",
   "metadata": {},
   "source": [
    "an alternate solution is using hsplit() opposite of hstack() for splitting the 2-D array\n"
   ]
  },
  {
   "cell_type": "code",
   "execution_count": 10,
   "id": "5c2e6556",
   "metadata": {},
   "outputs": [
    {
     "name": "stdout",
     "output_type": "stream",
     "text": [
      "[array([[ 1],\n",
      "       [ 4],\n",
      "       [ 7],\n",
      "       [11],\n",
      "       [14],\n",
      "       [17]]), array([[ 2],\n",
      "       [ 5],\n",
      "       [ 8],\n",
      "       [12],\n",
      "       [15],\n",
      "       [18]]), array([[ 3],\n",
      "       [ 6],\n",
      "       [ 9],\n",
      "       [13],\n",
      "       [16],\n",
      "       [19]])]\n"
     ]
    }
   ],
   "source": [
    "newarr = np.hsplit(arr, 3)\n",
    "print(newarr)"
   ]
  }
 ],
 "metadata": {
  "kernelspec": {
   "display_name": "myenv",
   "language": "python",
   "name": "python3"
  },
  "language_info": {
   "codemirror_mode": {
    "name": "ipython",
    "version": 3
   },
   "file_extension": ".py",
   "mimetype": "text/x-python",
   "name": "python",
   "nbconvert_exporter": "python",
   "pygments_lexer": "ipython3",
   "version": "3.11.13"
  }
 },
 "nbformat": 4,
 "nbformat_minor": 5
}
