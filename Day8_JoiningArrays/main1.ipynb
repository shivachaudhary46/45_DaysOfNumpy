{
 "cells": [
  {
   "cell_type": "code",
   "execution_count": 2,
   "id": "f9c7cc85",
   "metadata": {},
   "outputs": [],
   "source": [
    "import numpy as np "
   ]
  },
  {
   "cell_type": "code",
   "execution_count": 5,
   "id": "03f6d92d",
   "metadata": {},
   "outputs": [
    {
     "name": "stdout",
     "output_type": "stream",
     "text": [
      "[1 2 3 4 5 6 7]\n"
     ]
    }
   ],
   "source": [
    "arr1 = np.array([1, 2, 3, 4])\n",
    "arr2 = np.array([5, 6, 7])\n",
    "arr = np.concatenate((arr1, arr2))\n",
    "print(arr)"
   ]
  },
  {
   "cell_type": "code",
   "execution_count": 7,
   "id": "23e8453f",
   "metadata": {},
   "outputs": [
    {
     "name": "stdout",
     "output_type": "stream",
     "text": [
      "[[1 2 3 4]\n",
      " [3 5 5 7]]\n"
     ]
    }
   ],
   "source": [
    "arr1 = np.array([[1, 2], [3, 5]])\n",
    "arr2 = np.array([[3, 4], [5, 7]])\n",
    "arr = np.hstack((arr1, arr2)) # 0 means column\n",
    "print(arr)"
   ]
  },
  {
   "cell_type": "code",
   "execution_count": null,
   "id": "b973904f",
   "metadata": {},
   "outputs": [
    {
     "name": "stdout",
     "output_type": "stream",
     "text": [
      "vertical stack [[1 2]\n",
      " [3 5]\n",
      " [3 4]\n",
      " [5 7]]\n"
     ]
    }
   ],
   "source": [
    "arr = np.vstack((arr1, arr2))\n",
    "print(\"vertical stack\", arr)   # Vertical stack"
   ]
  },
  {
   "cell_type": "code",
   "execution_count": 11,
   "id": "5e6e3225",
   "metadata": {},
   "outputs": [
    {
     "name": "stdout",
     "output_type": "stream",
     "text": [
      "[1 2 3 4 5 2 3 4 5 6]\n"
     ]
    }
   ],
   "source": [
    "arr1 = np.array([1, 2, 3, 4, 5])\n",
    "arr2 = np.array([2, 3, 4, 5, 6])\n",
    "arr = np.concatenate((arr1, arr2))\n",
    "print(arr)"
   ]
  },
  {
   "cell_type": "code",
   "execution_count": null,
   "id": "0b196c02",
   "metadata": {},
   "outputs": [
    {
     "name": "stdout",
     "output_type": "stream",
     "text": [
      "[[2 3 4]\n",
      " [5 6 7]]\n",
      "[[0.3 0.5 0.6]\n",
      " [1.1 2.3 4.4]]\n",
      "---------------------------------------------\n",
      "[[2.  3.  4.  0.3 0.5 0.6]\n",
      " [5.  6.  7.  1.1 2.3 4.4]]\n"
     ]
    }
   ],
   "source": [
    "arr1 = np.array([[2, 3, 4], [5, 6, 7]])\n",
    "arr2 = np.array([[0.3, 0.5, 0.6], [1.1, 2.3, 4.4]])\n",
    "arr = np.concatenate((arr1, arr2), axis=1)\n",
    "print(arr1)\n",
    "print(arr2)\n",
    "print(\"---------------------------------------------\")\n",
    "print(arr) "
   ]
  },
  {
   "cell_type": "code",
   "execution_count": 16,
   "id": "f093200c",
   "metadata": {},
   "outputs": [
    {
     "name": "stdout",
     "output_type": "stream",
     "text": [
      "[[2.  3.  4. ]\n",
      " [5.  6.  7. ]\n",
      " [0.3 0.5 0.6]\n",
      " [1.1 2.3 4.4]]\n"
     ]
    }
   ],
   "source": [
    "arr = np.concatenate((arr1, arr2), axis=0)\n",
    "print(arr)\n"
   ]
  }
 ],
 "metadata": {
  "kernelspec": {
   "display_name": "myenv",
   "language": "python",
   "name": "python3"
  },
  "language_info": {
   "codemirror_mode": {
    "name": "ipython",
    "version": 3
   },
   "file_extension": ".py",
   "mimetype": "text/x-python",
   "name": "python",
   "nbconvert_exporter": "python",
   "pygments_lexer": "ipython3",
   "version": "3.11.13"
  }
 },
 "nbformat": 4,
 "nbformat_minor": 5
}
