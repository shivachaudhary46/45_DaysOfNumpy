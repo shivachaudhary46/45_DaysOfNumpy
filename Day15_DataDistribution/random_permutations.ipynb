{
 "cells": [
  {
   "cell_type": "markdown",
   "id": "d6a422ee",
   "metadata": {},
   "source": [
    "# Random Permutations "
   ]
  },
  {
   "cell_type": "markdown",
   "id": "f094d842",
   "metadata": {},
   "source": [
    "## Random Permutations of Elements\n",
    "\n",
    "A permutation refers to an arrangement of elements e.g. [3, 2, 1] is a permutation of [1, 2, 3] and vice versa. \n",
    "\n",
    "The NumPy random modules provides two methods for this shuffle() and permutation()\n",
    "\n",
    "# Shuffling Arrays \n",
    "Randomly shuffle elements of following array: "
   ]
  },
  {
   "cell_type": "code",
   "execution_count": 2,
   "id": "801d3edd",
   "metadata": {},
   "outputs": [
    {
     "name": "stdout",
     "output_type": "stream",
     "text": [
      "[6 9 1 2 4]\n"
     ]
    }
   ],
   "source": [
    "from numpy import random \n",
    "import numpy as np \n",
    "\n",
    "arr = np.array([1, 2, 4, 6, 9])\n",
    "\n",
    "random.shuffle(arr)\n",
    "\n",
    "print(arr)"
   ]
  },
  {
   "cell_type": "markdown",
   "id": "0b7eb486",
   "metadata": {},
   "source": [
    "## Generating Permutation of Arrays\n",
    "\n",
    "Generate a random permutation of elements of following array:\n",
    "\n"
   ]
  },
  {
   "cell_type": "code",
   "execution_count": 3,
   "id": "dbd3f481",
   "metadata": {},
   "outputs": [
    {
     "name": "stdout",
     "output_type": "stream",
     "text": [
      "[3 2 5 4 1]\n"
     ]
    }
   ],
   "source": [
    "arr = np.array([1, 2, 3, 4, 5])\n",
    "\n",
    "print(random.permutation(arr))"
   ]
  },
  {
   "cell_type": "markdown",
   "id": "38b410f8",
   "metadata": {},
   "source": []
  }
 ],
 "metadata": {
  "kernelspec": {
   "display_name": "myenv",
   "language": "python",
   "name": "python3"
  },
  "language_info": {
   "codemirror_mode": {
    "name": "ipython",
    "version": 3
   },
   "file_extension": ".py",
   "mimetype": "text/x-python",
   "name": "python",
   "nbconvert_exporter": "python",
   "pygments_lexer": "ipython3",
   "version": "3.11.13"
  }
 },
 "nbformat": 4,
 "nbformat_minor": 5
}
