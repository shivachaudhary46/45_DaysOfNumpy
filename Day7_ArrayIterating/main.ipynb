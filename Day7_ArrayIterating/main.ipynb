{
 "cells": [
  {
   "cell_type": "markdown",
   "id": "94255cce",
   "metadata": {},
   "source": [
    "# Iterating through Arrays \n",
    "\n",
    "Iterating through arrays means accessing elements one by one in array. \n",
    "\n",
    "As we also have to deal with the multi dimensional array. we can simply use for loop. "
   ]
  },
  {
   "cell_type": "code",
   "execution_count": 1,
   "id": "0a160827",
   "metadata": {},
   "outputs": [],
   "source": [
    "import numpy as np "
   ]
  },
  {
   "cell_type": "code",
   "execution_count": 2,
   "id": "0cd2a6c0",
   "metadata": {},
   "outputs": [
    {
     "name": "stdout",
     "output_type": "stream",
     "text": [
      "1\n",
      "2\n",
      "3\n",
      "4\n",
      "5\n",
      "6\n",
      "7\n",
      "8\n",
      "9\n",
      "10\n"
     ]
    }
   ],
   "source": [
    "arr = np.array([1, 2, 3, 4, 5, 6, 7, 8, 9, 10])\n",
    "for i in arr:\n",
    "    print(i)"
   ]
  },
  {
   "cell_type": "markdown",
   "id": "a049ea96",
   "metadata": {},
   "source": [
    "#### Iterating through Multi dimensional Arrays \n",
    "In a 2-D array it will go through all the rows. "
   ]
  },
  {
   "cell_type": "code",
   "execution_count": 4,
   "id": "f3de0345",
   "metadata": {},
   "outputs": [
    {
     "name": "stdout",
     "output_type": "stream",
     "text": [
      "[1 2 4]\n",
      "[5 6 7]\n"
     ]
    }
   ],
   "source": [
    "arr = np.array([[1, 2, 4], [5, 6, 7]])\n",
    "for i in arr:\n",
    "    print(i)"
   ]
  },
  {
   "cell_type": "markdown",
   "id": "edd7f49a",
   "metadata": {},
   "source": [
    "if we iterate on n-D array it will iterate through n-1th dimension one first and will go iterating n-nth dimension. "
   ]
  },
  {
   "cell_type": "markdown",
   "id": "4aa2094c",
   "metadata": {},
   "source": [
    "#### Iterating through 3-D arrays "
   ]
  },
  {
   "cell_type": "code",
   "execution_count": 6,
   "id": "8d465826",
   "metadata": {},
   "outputs": [
    {
     "name": "stdout",
     "output_type": "stream",
     "text": [
      "[[1 2 3]\n",
      " [4 5 6]\n",
      " [7 8 9]]\n",
      "[[10 11 12]\n",
      " [13 14 14]\n",
      " [15 16 17]]\n"
     ]
    }
   ],
   "source": [
    "arr = np.array([[[1, 2, 3], [4, 5, 6], [7, 8, 9]], [[10, 11, 12], [13, 14, 14], [15, 16, 17]]])\n",
    "for i in arr:\n",
    "    print(i)"
   ]
  },
  {
   "cell_type": "code",
   "execution_count": 10,
   "id": "e8e0bc74",
   "metadata": {},
   "outputs": [
    {
     "name": "stdout",
     "output_type": "stream",
     "text": [
      "[[1 2 3]\n",
      " [4 5 6]\n",
      " [7 8 9]]\n",
      "[[10 11 12]\n",
      " [13 14 14]\n",
      " [15 16 17]]\n"
     ]
    }
   ],
   "source": [
    "for i in arr:\n",
    "    print(i)"
   ]
  },
  {
   "cell_type": "code",
   "execution_count": null,
   "id": "9c120fdf",
   "metadata": {},
   "outputs": [],
   "source": [
    "for i in arr:\n",
    "    for j in i: \n",
    "        for k in j:\n",
    "            print(i)"
   ]
  },
  {
   "cell_type": "code",
   "execution_count": null,
   "id": "b76c6711",
   "metadata": {},
   "outputs": [
    {
     "name": "stdout",
     "output_type": "stream",
     "text": [
      "1\n",
      "2\n",
      "3\n",
      "4\n",
      "5\n",
      "6\n",
      "7\n",
      "8\n",
      "9\n",
      "10\n",
      "11\n",
      "12\n",
      "13\n",
      "14\n",
      "14\n",
      "15\n",
      "16\n",
      "17\n"
     ]
    }
   ],
   "source": [
    "# iterating on each scalar element Using nditer() we use nditer \n",
    "# because \n",
    "\n",
    "for x in np.nditer(arr):\n",
    "    print(x)"
   ]
  },
  {
   "cell_type": "markdown",
   "id": "a58cb685",
   "metadata": {},
   "source": [
    "#### Iterating Array with Different Data Types \n",
    "\n",
    "we can use op_dtypes argument and pass it the expected datatype to change the datatype of elements while iterating. "
   ]
  },
  {
   "cell_type": "code",
   "execution_count": 12,
   "id": "d4115faf",
   "metadata": {},
   "outputs": [
    {
     "name": "stdout",
     "output_type": "stream",
     "text": [
      "b'1'\n",
      "|S11\n",
      "b'2'\n",
      "|S11\n",
      "b'3'\n",
      "|S11\n",
      "b'4'\n",
      "|S11\n",
      "b'5'\n",
      "|S11\n",
      "b'6'\n",
      "|S11\n",
      "b'7'\n",
      "|S11\n",
      "b'8'\n",
      "|S11\n",
      "b'9'\n",
      "|S11\n",
      "b'10'\n",
      "|S11\n",
      "b'11'\n",
      "|S11\n",
      "b'12'\n",
      "|S11\n",
      "b'13'\n",
      "|S11\n",
      "b'14'\n",
      "|S11\n",
      "b'14'\n",
      "|S11\n",
      "b'15'\n",
      "|S11\n",
      "b'16'\n",
      "|S11\n",
      "b'17'\n",
      "|S11\n"
     ]
    }
   ],
   "source": [
    "for x in np.nditer(arr, flags=['buffered'], op_dtypes=['S']):\n",
    "    print(x)\n",
    "    print(x.dtype)"
   ]
  },
  {
   "cell_type": "code",
   "execution_count": 13,
   "id": "5217e6ea",
   "metadata": {},
   "outputs": [
    {
     "name": "stdout",
     "output_type": "stream",
     "text": [
      "1\n",
      "3\n",
      "5\n",
      "1\n",
      "3\n",
      "5\n"
     ]
    }
   ],
   "source": [
    "## Iterating with different step size \n",
    "# we can use filtering and followed by iteration. \n",
    "arr = np.array([[1, 2, 3, 4, 5, 6], [1, 2, 3, 4, 5, 6]])\n",
    "for x in np.nditer(arr[:, ::2]):\n",
    "    print(x)"
   ]
  },
  {
   "cell_type": "markdown",
   "id": "99ebbdcc",
   "metadata": {},
   "source": [
    "## Enumerated Iteration Using ndenumerate() \n",
    "sometimes we require mapping index of the element while iterating ,\n",
    "the ndenumerate() method can be used for those used cases. "
   ]
  },
  {
   "cell_type": "code",
   "execution_count": 14,
   "id": "f488b07b",
   "metadata": {},
   "outputs": [
    {
     "name": "stdout",
     "output_type": "stream",
     "text": [
      "(0,) 1\n",
      "(1,) 2\n",
      "(2,) 3\n"
     ]
    }
   ],
   "source": [
    "arr = np.array([1, 2, 3])\n",
    "for idx, x in np.ndenumerate(arr):\n",
    "    print(idx, x)"
   ]
  },
  {
   "cell_type": "code",
   "execution_count": 17,
   "id": "9d0724b2",
   "metadata": {},
   "outputs": [
    {
     "name": "stdout",
     "output_type": "stream",
     "text": [
      "0 0 1\n",
      "0 1 2\n",
      "0 2 3\n",
      "1 0 4\n",
      "1 1 5\n",
      "1 2 6\n"
     ]
    }
   ],
   "source": [
    "arr_2D = np.array([[1, 2, 3], [4, 5, 6]])\n",
    "for idx, x in np.ndenumerate(arr_2D):\n",
    "    print(idx[0], idx[1], x)"
   ]
  }
 ],
 "metadata": {
  "kernelspec": {
   "display_name": "myenv",
   "language": "python",
   "name": "python3"
  },
  "language_info": {
   "codemirror_mode": {
    "name": "ipython",
    "version": 3
   },
   "file_extension": ".py",
   "mimetype": "text/x-python",
   "name": "python",
   "nbconvert_exporter": "python",
   "pygments_lexer": "ipython3",
   "version": "3.11.13"
  }
 },
 "nbformat": 4,
 "nbformat_minor": 5
}
