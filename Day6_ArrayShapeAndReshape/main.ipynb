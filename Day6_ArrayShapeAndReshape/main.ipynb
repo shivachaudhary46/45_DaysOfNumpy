{
 "cells": [
  {
   "cell_type": "markdown",
   "id": "4a040087",
   "metadata": {},
   "source": [
    "#### Shape of an Array \n",
    "\n",
    "The shape of an array is the number of elements in each dimensions. "
   ]
  },
  {
   "cell_type": "code",
   "execution_count": 2,
   "id": "bb6e9156",
   "metadata": {},
   "outputs": [
    {
     "name": "stdout",
     "output_type": "stream",
     "text": [
      "shape of the array:  (2, 4)\n"
     ]
    }
   ],
   "source": [
    "import numpy as np\n",
    "arr = np.array([[1, 2, 3, 4], [5, 6, 7, 8]])\n",
    "print(\"shape of the array: \", arr.shape)"
   ]
  },
  {
   "cell_type": "markdown",
   "id": "70b7135d",
   "metadata": {},
   "source": [
    "The example of above returns (2, 4), which means that the array has 2 dimensions, where the first dimension has 2 elements and the second has 4. "
   ]
  },
  {
   "cell_type": "markdown",
   "id": "2e4936c5",
   "metadata": {},
   "source": [
    "Create an array with 5 dimensions using ndim using a vector with values 1, 2, 3, 4 and verify that last dimension has value 4. "
   ]
  },
  {
   "cell_type": "code",
   "execution_count": 3,
   "id": "0119a2ba",
   "metadata": {},
   "outputs": [
    {
     "name": "stdout",
     "output_type": "stream",
     "text": [
      "[[[[[1 2 3 4]]]]]\n",
      "shape of array:  (1, 1, 1, 1, 4)\n"
     ]
    }
   ],
   "source": [
    "arr = np.array([1, 2, 3, 4], ndmin=5)\n",
    "\n",
    "print(arr)\n",
    "print(\"shape of array: \", arr.shape)"
   ]
  },
  {
   "cell_type": "markdown",
   "id": "a0e079b5",
   "metadata": {},
   "source": [
    "In the shape of of above tuple we can see that there is 4 , 1's and in the index value 4 we get see the value 4 meaning that it has dimension 4. "
   ]
  },
  {
   "cell_type": "markdown",
   "id": "cc6eb06c",
   "metadata": {},
   "source": [
    "#### Reshaping Arrays \n",
    "\n",
    "Reshaping means changing the shape of the array. The shape of an array is the number of elements in each dimensions. By reshaping we can change the number of elements in each dimension. "
   ]
  },
  {
   "cell_type": "code",
   "execution_count": 5,
   "id": "409a0f6a",
   "metadata": {},
   "outputs": [
    {
     "name": "stdout",
     "output_type": "stream",
     "text": [
      "Before reshaping the array:  (12,)\n",
      "After shaping the array:  (4, 3)\n",
      "[[ 1  2  3]\n",
      " [ 4  5  6]\n",
      " [ 7  8  9]\n",
      " [10 11 12]]\n"
     ]
    }
   ],
   "source": [
    "# Convert the following 1-D array with 12 elements into a 2-D array. \n",
    "arr = np.array([1, 2, 3, 4, 5, 6, 7, 8, 9, 10, 11, 12])\n",
    "print(\"Before reshaping the array: \", arr.shape)\n",
    "newarr = arr.reshape(4, 3)\n",
    "print(\"After shaping the array: \", newarr.shape)\n",
    "print(newarr)"
   ]
  },
  {
   "cell_type": "markdown",
   "id": "9cd00544",
   "metadata": {},
   "source": [
    "What happens if there is few elements only present which will be insufficient to reshape the new array. "
   ]
  },
  {
   "cell_type": "code",
   "execution_count": 6,
   "id": "cd8461b8",
   "metadata": {},
   "outputs": [
    {
     "name": "stdout",
     "output_type": "stream",
     "text": [
      "Before reshaping the array:  (11,)\n"
     ]
    },
    {
     "ename": "ValueError",
     "evalue": "cannot reshape array of size 11 into shape (4,3)",
     "output_type": "error",
     "traceback": [
      "\u001b[31m---------------------------------------------------------------------------\u001b[39m",
      "\u001b[31mValueError\u001b[39m                                Traceback (most recent call last)",
      "\u001b[36mCell\u001b[39m\u001b[36m \u001b[39m\u001b[32mIn[6]\u001b[39m\u001b[32m, line 3\u001b[39m\n\u001b[32m      1\u001b[39m arr = np.array([\u001b[32m1\u001b[39m, \u001b[32m2\u001b[39m, \u001b[32m4\u001b[39m, \u001b[32m5\u001b[39m, \u001b[32m6\u001b[39m, \u001b[32m7\u001b[39m, \u001b[32m8\u001b[39m, \u001b[32m9\u001b[39m, \u001b[32m10\u001b[39m, \u001b[32m11\u001b[39m, \u001b[32m12\u001b[39m])\n\u001b[32m      2\u001b[39m \u001b[38;5;28mprint\u001b[39m(\u001b[33m\"\u001b[39m\u001b[33mBefore reshaping the array: \u001b[39m\u001b[33m\"\u001b[39m, arr.shape)\n\u001b[32m----> \u001b[39m\u001b[32m3\u001b[39m newarr = arr.reshape(\u001b[32m4\u001b[39m, \u001b[32m3\u001b[39m)\n\u001b[32m      4\u001b[39m \u001b[38;5;28mprint\u001b[39m(\u001b[33m\"\u001b[39m\u001b[33mAfter shaping the array: \u001b[39m\u001b[33m\"\u001b[39m, newarr.shape)\n\u001b[32m      5\u001b[39m \u001b[38;5;28mprint\u001b[39m(newarr)\n",
      "\u001b[31mValueError\u001b[39m: cannot reshape array of size 11 into shape (4,3)"
     ]
    }
   ],
   "source": [
    "arr = np.array([1, 2, 4, 5, 6, 7, 8, 9, 10, 11, 12])\n",
    "print(\"Before reshaping the array: \", arr.shape)\n",
    "newarr = arr.reshape(4, 3)\n",
    "print(\"After shaping the array: \", newarr.shape)\n",
    "print(newarr)"
   ]
  },
  {
   "cell_type": "markdown",
   "id": "ae441d7f",
   "metadata": {},
   "source": [
    "# Reshape From 1-D to 3-D \n",
    "Convert the following 1-D array with 12 elements into a 3-D array. The outermost dimension will have 2 arrays that contains 3 arrays with each 3 elements. "
   ]
  },
  {
   "cell_type": "code",
   "execution_count": 8,
   "id": "bb180752",
   "metadata": {},
   "outputs": [
    {
     "name": "stdout",
     "output_type": "stream",
     "text": [
      "[[[ 1  2]\n",
      "  [ 3  4]\n",
      "  [ 5  6]]\n",
      "\n",
      " [[ 7  8]\n",
      "  [ 9 10]\n",
      "  [11 12]]]\n"
     ]
    }
   ],
   "source": [
    "arr1 = np.array([1, 2, 3, 4, 5, 6, 7, 8, 9, 10, 11, 12])\n",
    "newarr = arr1.reshape(2, 3, 2)\n",
    "print(newarr)"
   ]
  },
  {
   "cell_type": "markdown",
   "id": "1fea180e",
   "metadata": {},
   "source": [
    "# Can We Reshape into any shape ? \n",
    "Yes we can reshape array into any shape. for example 8 elements of 1D array can be converted into 2D array as (2*4) but we cannot convert it into 3D array because that would require 3x3 = 9 elements. "
   ]
  },
  {
   "cell_type": "code",
   "execution_count": 10,
   "id": "fe07ba9b",
   "metadata": {},
   "outputs": [
    {
     "name": "stdout",
     "output_type": "stream",
     "text": [
      "After reshaped array to 2D array:  [[1 2 3 4]\n",
      " [5 6 7 8]]\n"
     ]
    },
    {
     "ename": "ValueError",
     "evalue": "cannot reshape array of size 8 into shape (2,3)",
     "output_type": "error",
     "traceback": [
      "\u001b[31m---------------------------------------------------------------------------\u001b[39m",
      "\u001b[31mValueError\u001b[39m                                Traceback (most recent call last)",
      "\u001b[36mCell\u001b[39m\u001b[36m \u001b[39m\u001b[32mIn[10]\u001b[39m\u001b[32m, line 4\u001b[39m\n\u001b[32m      2\u001b[39m newarr = arr1.reshape(\u001b[32m2\u001b[39m, \u001b[32m4\u001b[39m)\n\u001b[32m      3\u001b[39m \u001b[38;5;28mprint\u001b[39m(\u001b[33m\"\u001b[39m\u001b[33mAfter reshaped array to 2D array: \u001b[39m\u001b[33m\"\u001b[39m, newarr)\n\u001b[32m----> \u001b[39m\u001b[32m4\u001b[39m \u001b[38;5;28mprint\u001b[39m(\u001b[33m\"\u001b[39m\u001b[33mTrying to reshape array : \u001b[39m\u001b[33m\"\u001b[39m, arr1.reshape(\u001b[32m2\u001b[39m, \u001b[32m3\u001b[39m))\n",
      "\u001b[31mValueError\u001b[39m: cannot reshape array of size 8 into shape (2,3)"
     ]
    }
   ],
   "source": [
    "arr1 = np.array([1, 2, 3, 4, 5, 6, 7, 8])\n",
    "newarr = arr1.reshape(2, 4)\n",
    "print(\"After reshaped array to 2D array: \", newarr)\n",
    "print(\"Trying to reshape array : \", arr1.reshape(2, 3))"
   ]
  },
  {
   "cell_type": "markdown",
   "id": "c3acfe71",
   "metadata": {},
   "source": [
    "# Returns Copy or View ?\n",
    "check if the returned array is a copy or view ? "
   ]
  },
  {
   "cell_type": "code",
   "execution_count": 13,
   "id": "e4f96aa1",
   "metadata": {},
   "outputs": [
    {
     "name": "stdout",
     "output_type": "stream",
     "text": [
      "[1 2 3 4 5 6 7 8]\n",
      "[[1 2 3 4]\n",
      " [5 6 7 8]]\n"
     ]
    }
   ],
   "source": [
    "arr = np.array([1, 2, 3, 4, 5, 6, 7, 8])\n",
    "newarr = arr.reshape(2, 4)\n",
    "print(arr.reshape(2, 4).base)\n",
    "print(newarr)\n",
    "\n",
    "# we found that the reshaping the array is the view. "
   ]
  },
  {
   "cell_type": "markdown",
   "id": "90fa8b39",
   "metadata": {},
   "source": [
    "# Flattening the arrays \n",
    "Flattening array means converting a multidimensionsional array into a 1D array. \n",
    "we can use reshape(-1) to do this. "
   ]
  },
  {
   "cell_type": "code",
   "execution_count": 14,
   "id": "7793b58f",
   "metadata": {},
   "outputs": [
    {
     "name": "stdout",
     "output_type": "stream",
     "text": [
      "[1 2 3 4 5 6]\n"
     ]
    }
   ],
   "source": [
    "arr = np.array([[1, 2, 3], [4, 5, 6]])\n",
    "newarr = arr.reshape(-1)\n",
    "print(newarr)"
   ]
  },
  {
   "cell_type": "markdown",
   "id": "8a197c4b",
   "metadata": {},
   "source": [
    "# Unknown dimension \n",
    "you are allowed to have one unknown dimesion. Meaning that you do not have to specify exact number for one of the dimension in the reshape method. \n",
    "\n",
    "Pass -1 as the value, and NumPy will calculate this number for you."
   ]
  },
  {
   "cell_type": "code",
   "execution_count": 15,
   "id": "106c0a1b",
   "metadata": {},
   "outputs": [
    {
     "name": "stdout",
     "output_type": "stream",
     "text": [
      "[[[1 2]\n",
      "  [3 4]]\n",
      "\n",
      " [[5 6]\n",
      "  [7 8]]]\n"
     ]
    }
   ],
   "source": [
    "arr = np.array([1, 2, 3, 4, 5, 6, 7, 8])\n",
    "\n",
    "newarr = arr.reshape(2, 2, -1)\n",
    "print(newarr)"
   ]
  },
  {
   "cell_type": "code",
   "execution_count": 3,
   "id": "eb1a6136",
   "metadata": {},
   "outputs": [
    {
     "name": "stdout",
     "output_type": "stream",
     "text": [
      "[[[ 1  2  3]\n",
      "  [ 4  5  6]]\n",
      "\n",
      " [[ 7  8  9]\n",
      "  [10 11 12]]]\n"
     ]
    }
   ],
   "source": [
    "arr = np.array([1, 2, 3, 4, 5, 6, 7, 8, 9, 10, 11, 12])\n",
    "newarr = arr.reshape(2, 2, -1)\n",
    "print(newarr)"
   ]
  },
  {
   "cell_type": "code",
   "execution_count": 4,
   "id": "bc0c5749",
   "metadata": {},
   "outputs": [
    {
     "name": "stdout",
     "output_type": "stream",
     "text": [
      "[1 2 3 4 5 6]\n"
     ]
    }
   ],
   "source": [
    "arr = np.array([[1, 2, 3], [4, 5, 6]])\n",
    "newarr = arr.reshape(6)\n",
    "print(newarr)"
   ]
  },
  {
   "cell_type": "code",
   "execution_count": null,
   "id": "f79bc519",
   "metadata": {},
   "outputs": [],
   "source": []
  }
 ],
 "metadata": {
  "kernelspec": {
   "display_name": "myenv",
   "language": "python",
   "name": "python3"
  },
  "language_info": {
   "codemirror_mode": {
    "name": "ipython",
    "version": 3
   },
   "file_extension": ".py",
   "mimetype": "text/x-python",
   "name": "python",
   "nbconvert_exporter": "python",
   "pygments_lexer": "ipython3",
   "version": "3.11.13"
  }
 },
 "nbformat": 4,
 "nbformat_minor": 5
}
