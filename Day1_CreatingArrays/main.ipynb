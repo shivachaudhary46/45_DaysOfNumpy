{
 "cells": [
  {
   "cell_type": "markdown",
   "id": "95b6f4bb",
   "metadata": {},
   "source": [
    "# Object \n",
    "## Create a numpy ndarray object. \n",
    "        A array created by numpy is also called ndarray. we can use \n",
    "`````\n",
    "np.array() \n",
    "`````\n",
    "        builtin function to create an ndarray. To create an array we can use any object like list, array, tuple and dictionary. "
   ]
  },
  {
   "cell_type": "code",
   "execution_count": 2,
   "id": "fe63466d",
   "metadata": {},
   "outputs": [],
   "source": [
    "import numpy as np "
   ]
  },
  {
   "cell_type": "code",
   "execution_count": 6,
   "id": "04b40f77",
   "metadata": {},
   "outputs": [
    {
     "name": "stdout",
     "output_type": "stream",
     "text": [
      "example of array:  43\n",
      "type of arrray:  <class 'numpy.ndarray'>\n"
     ]
    }
   ],
   "source": [
    "arr1 = np.array(43)\n",
    "print(\"example of array: \", arr1)\n",
    "print(\"type of arrray: \", type(arr1))"
   ]
  },
  {
   "cell_type": "code",
   "execution_count": 7,
   "id": "447ce936",
   "metadata": {},
   "outputs": [
    {
     "name": "stdout",
     "output_type": "stream",
     "text": [
      "Example of tuple :  [ 1.  2. nan  3. nan  5.]\n",
      "Example of array:  [ 1.  2.  3.  4.  5. nan]\n"
     ]
    }
   ],
   "source": [
    "tup_arr = np.array((1, 2, np.nan, 3, np.nan, 5))\n",
    "print(\"Example of tuple : \", tup_arr)\n",
    "arr = np.array([1, 2, 3, 4, 5, np.nan])\n",
    "print(\"Example of array: \", arr)"
   ]
  },
  {
   "cell_type": "code",
   "execution_count": 18,
   "id": "cc744288",
   "metadata": {},
   "outputs": [
    {
     "name": "stdout",
     "output_type": "stream",
     "text": [
      "0 dim array example :  23\n",
      "1 dim array example :  [ 1.  2.  3. nan  4.]\n",
      "2 dim array exmaple:  [['1' '2' '3']\n",
      " ['shiva' 'anje' 'krisha']]\n",
      "3 dim array example :  [[[ 1.  2.  3.]\n",
      "  [ 4.  5.  6.]\n",
      "  [ 7. 68.  9.]]\n",
      "\n",
      " [[ 4. nan  5.]\n",
      "  [ 5.  0.  0.]\n",
      "  [ 0.  0.  0.]]]\n"
     ]
    }
   ],
   "source": [
    "# 0 dimension array \n",
    "dim_0Arr = np.array(23)\n",
    "print(\"0 dim array example : \", dim_0Arr)\n",
    "dim_1Arr = np.array([1, 2, 3, np.nan, 4])\n",
    "print(\"1 dim array example : \", dim_1Arr)\n",
    "dim_2Arr = np.array([[1, 2, 3], ['shiva', 'anje', 'krisha']])\n",
    "print(\"2 dim array exmaple: \", dim_2Arr)\n",
    "dim_3Arr = np.array([[[1, 2, 3], [4, 5, 6], [7, 68, 9]], [[4, np.nan, 5], [5, 0.0, 0.0], [0, 0, 0]]])\n",
    "print(\"3 dim array example : \", dim_3Arr)\n",
    "higher_dim = np.array(45, ndmin=5)\n"
   ]
  },
  {
   "cell_type": "code",
   "execution_count": 23,
   "id": "48e50e2a",
   "metadata": {},
   "outputs": [
    {
     "name": "stdout",
     "output_type": "stream",
     "text": [
      "dim 0 array :  0\n",
      "dim 1 array :  1\n",
      "dim 2 array :  2\n",
      "dim 3 array :  3\n",
      "higher dim array :  [[[[[45]]]]] , dim:  5\n"
     ]
    }
   ],
   "source": [
    "print(\"dim 0 array : \", dim_0Arr.ndim)\n",
    "print(\"dim 1 array : \", dim_1Arr.ndim)\n",
    "print(\"dim 2 array : \", dim_2Arr.ndim)\n",
    "print(\"dim 3 array : \", dim_3Arr.ndim)\n",
    "print(\"higher dim array : \", higher_dim, \", dim: \", higher_dim.ndim)"
   ]
  },
  {
   "cell_type": "markdown",
   "id": "d224b034",
   "metadata": {},
   "source": [
    "In this array the innermost dimension (5th dim) has 1 elements, the 4th dim has 1 element that is the 5 dim vector, the 3rd dim has 1 element that is the matrix with the 4 dim vector, the 2nd dim has 1 element that is 3D array and 1st dim has 1 element that is a 4D array."
   ]
  }
 ],
 "metadata": {
  "kernelspec": {
   "display_name": "myenv",
   "language": "python",
   "name": "python3"
  },
  "language_info": {
   "codemirror_mode": {
    "name": "ipython",
    "version": 3
   },
   "file_extension": ".py",
   "mimetype": "text/x-python",
   "name": "python",
   "nbconvert_exporter": "python",
   "pygments_lexer": "ipython3",
   "version": "3.11.13"
  }
 },
 "nbformat": 4,
 "nbformat_minor": 5
}
