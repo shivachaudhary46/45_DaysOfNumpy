{
 "cells": [
  {
   "cell_type": "markdown",
   "id": "38e13707",
   "metadata": {},
   "source": [
    "# Random Numbers in NumPy \n",
    "\n",
    "What is a Random Number?\n",
    "\n",
    "Random Number does not mean different number every time. Random means something that can no be predicted logically. \n",
    "\n",
    "Pseudo Random and True Random \n",
    "\n",
    "The random number generated through any type of algorithm is called Pseudo Random. It means If there is a program to generate random number then, it can be predicted, thus it is not truly random number as well.\n",
    "\n",
    "Then how to make a True Random number ? \n",
    "Yes, In order to generate a True Random number our computer might need to get the data from the outer sources. This outer resources data is generallu keystrokes, mouse movements, data on network etc. \n",
    "\n",
    "In this NoteBook we will use pseudo random numbers. \n",
    "# Generate Random Number\n",
    "NumPY offers the random module to work with random numbers"
   ]
  },
  {
   "cell_type": "code",
   "execution_count": 1,
   "id": "e9902c6b",
   "metadata": {},
   "outputs": [],
   "source": [
    "from numpy import random "
   ]
  },
  {
   "cell_type": "markdown",
   "id": "0e90edd0",
   "metadata": {},
   "source": [
    "Generate a random integer from 0 to 100"
   ]
  },
  {
   "cell_type": "code",
   "execution_count": 3,
   "id": "ae01ad22",
   "metadata": {},
   "outputs": [
    {
     "name": "stdout",
     "output_type": "stream",
     "text": [
      "39\n"
     ]
    }
   ],
   "source": [
    "x = random.randint(100)\n",
    "\n",
    "print(x)"
   ]
  },
  {
   "cell_type": "markdown",
   "id": "3ffced36",
   "metadata": {},
   "source": [
    "To Generate a random integer we use random.randint() but to generate a float value we use random.rand()"
   ]
  },
  {
   "cell_type": "code",
   "execution_count": 4,
   "id": "3676b58f",
   "metadata": {},
   "outputs": [
    {
     "name": "stdout",
     "output_type": "stream",
     "text": [
      "0.3730591010436637\n"
     ]
    }
   ],
   "source": [
    "x = random.rand()\n",
    "\n",
    "print(x)"
   ]
  },
  {
   "cell_type": "markdown",
   "id": "a82ce80b",
   "metadata": {},
   "source": [
    "# generate a 1-D array containing 5 random integers from 0 to 100"
   ]
  },
  {
   "cell_type": "code",
   "execution_count": 13,
   "id": "74aecc38",
   "metadata": {},
   "outputs": [
    {
     "name": "stdout",
     "output_type": "stream",
     "text": [
      "[55  5 45  6 77]\n"
     ]
    }
   ],
   "source": [
    "x = random.randint(100, size=(5))\n",
    "\n",
    "print(x)"
   ]
  },
  {
   "cell_type": "markdown",
   "id": "5b11df26",
   "metadata": {},
   "source": [
    "# Generate a 2-D array with 3 rows, each row containing 5 random integers from 0 to 100"
   ]
  },
  {
   "cell_type": "code",
   "execution_count": 14,
   "id": "b814de22",
   "metadata": {},
   "outputs": [
    {
     "name": "stdout",
     "output_type": "stream",
     "text": [
      "[[49 55  7 74 19]\n",
      " [73  5 67 58  3]\n",
      " [78 54 18 56 17]]\n"
     ]
    }
   ],
   "source": [
    "x = random.randint(100, size=(3, 5))\n",
    "\n",
    "print(x)"
   ]
  },
  {
   "cell_type": "markdown",
   "id": "122a1107",
   "metadata": {},
   "source": [
    "# Generate a 1-D array of random float. "
   ]
  },
  {
   "cell_type": "code",
   "execution_count": 8,
   "id": "ba966d02",
   "metadata": {},
   "outputs": [
    {
     "name": "stdout",
     "output_type": "stream",
     "text": [
      "[0.73104688 0.03513227 0.90495382 0.75935607 0.24412441]\n"
     ]
    }
   ],
   "source": [
    "x = random.rand(5)\n",
    "\n",
    "print(x)"
   ]
  },
  {
   "cell_type": "markdown",
   "id": "a0a46418",
   "metadata": {},
   "source": [
    "# Generate a 2-D array with 3 rows, each row containin 5 random Float Numbers"
   ]
  },
  {
   "cell_type": "code",
   "execution_count": 15,
   "id": "cd61e106",
   "metadata": {},
   "outputs": [
    {
     "name": "stdout",
     "output_type": "stream",
     "text": [
      "[[0.94332211 0.49846837 0.68611974 0.2644582  0.93235971]\n",
      " [0.40323862 0.99414471 0.75328548 0.16879672 0.86870516]\n",
      " [0.32896509 0.30896495 0.90021547 0.12634242 0.22763557]]\n"
     ]
    }
   ],
   "source": [
    "x = random.rand(3, 5)\n",
    "\n",
    "print(x)"
   ]
  },
  {
   "cell_type": "markdown",
   "id": "baddc10d",
   "metadata": {},
   "source": [
    "# Generate Random Number From Array \n",
    "\n",
    "The choice() method allows to choose one value from the given array. \n",
    "\n",
    "The choice() method takes an array as a parameter and randomly returns one of the values. "
   ]
  },
  {
   "cell_type": "code",
   "execution_count": 10,
   "id": "f35eccae",
   "metadata": {},
   "outputs": [
    {
     "name": "stdout",
     "output_type": "stream",
     "text": [
      "9\n"
     ]
    }
   ],
   "source": [
    "x = random.choice([3, 4, 9, 10])\n",
    "\n",
    "print(x)"
   ]
  },
  {
   "cell_type": "markdown",
   "id": "cfc3bd84",
   "metadata": {},
   "source": [
    "The <span style=\"color:red\">choice()</span> method also allows you to return an array of values . \n",
    "\n",
    "Add a size parameter to specify the shape of the array. "
   ]
  },
  {
   "cell_type": "code",
   "execution_count": 12,
   "id": "1a9ec52f",
   "metadata": {},
   "outputs": [
    {
     "name": "stdout",
     "output_type": "stream",
     "text": [
      "[[ 9 10  1  1  9]\n",
      " [10  1  3 10  3]\n",
      " [ 9  9  1  1 10]]\n"
     ]
    }
   ],
   "source": [
    "x = random.choice([3, 9, 1, 10], size=(3, 5))\n",
    "\n",
    "print(x)"
   ]
  }
 ],
 "metadata": {
  "kernelspec": {
   "display_name": "myenv",
   "language": "python",
   "name": "python3"
  },
  "language_info": {
   "codemirror_mode": {
    "name": "ipython",
    "version": 3
   },
   "file_extension": ".py",
   "mimetype": "text/x-python",
   "name": "python",
   "nbconvert_exporter": "python",
   "pygments_lexer": "ipython3",
   "version": "3.11.13"
  }
 },
 "nbformat": 4,
 "nbformat_minor": 5
}
