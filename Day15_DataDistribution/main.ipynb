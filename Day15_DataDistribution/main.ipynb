{
 "cells": [
  {
   "cell_type": "markdown",
   "id": "ad8e1710",
   "metadata": {},
   "source": [
    "# Random Data Distribution \n",
    "## What is Data Distribution ? \n",
    "- Data distribution is a list of all possible values in terms of probablites and how often each value occurs. \n",
    "- such list are important when working with statistics and data science. \n",
    "\n",
    "\n",
    "It returns randomly generated data distributions. \n",
    "\n",
    "## Random Distribution\n",
    "A random distribution is a set of random numbers that follow a certain probability density function. \n",
    "\n",
    "## Probability Density Function: \n",
    "A function that describes a continuous probability, i.e. probabilities of all values in an array. \n",
    "\n",
    "we generate random numbers based on defined probabilities using the <span style=\"color:red\">choice()</span> method of the random module. \n",
    "\n",
    "The probability is set by a number between 0 and 1 where, 0 means the value will never occur and 1 means the value will always occur.\n",
    "\n",
    "Generate a 1-D array containing 100 values, where each value has to be 3, 5, 7, 9. \n",
    "\n",
    "### Example:\n",
    "\n",
    "The probability for the value 3 = 0.1 \n",
    "\n",
    "The probability for the value 7 = 0.8 \n",
    "\n",
    "The probability for the value 5 = 0\n",
    "\n",
    "The probability for the value 9 = 0"
   ]
  },
  {
   "cell_type": "code",
   "execution_count": 2,
   "id": "788d1f95",
   "metadata": {},
   "outputs": [
    {
     "name": "stdout",
     "output_type": "stream",
     "text": [
      "[5 5 5 5 5 3 5 5 5 5 5 3 5 5 5 3 5 3 5 5 5 5 5 5 3 5 5 5 3 5 5 5 5 3 3 5 5\n",
      " 5 5 5 3 5 5 5 5 5 5 5 5 5 5 5 5 5 3 5 5 5 3 5 3 5 5 3 3 5 3 5 5 3 5 5 5 3\n",
      " 5 5 5 5 5 5 5 5 5 3 5 5 5 5 3 5 5 5 3 5 3 5 5 3 3 5]\n"
     ]
    }
   ],
   "source": [
    "from numpy import random \n",
    "\n",
    "x = random.choice([3, 5, 7, 9], p=[0.2, 0.8, 0.0, 0.0], size=(100))\n",
    "\n",
    "print(x)"
   ]
  },
  {
   "cell_type": "code",
   "execution_count": 3,
   "id": "00bdbe79",
   "metadata": {},
   "outputs": [
    {
     "name": "stdout",
     "output_type": "stream",
     "text": [
      "[[7 7 5 5 7]\n",
      " [5 7 7 7 7]\n",
      " [5 7 5 5 3]]\n"
     ]
    }
   ],
   "source": [
    "from numpy import random\n",
    "\n",
    "x = random.choice([3, 5, 7, 9], p=[0.1, 0.3, 0.6, 0.0], size=(3, 5))\n",
    "\n",
    "print(x)"
   ]
  }
 ],
 "metadata": {
  "kernelspec": {
   "display_name": "myenv",
   "language": "python",
   "name": "python3"
  },
  "language_info": {
   "codemirror_mode": {
    "name": "ipython",
    "version": 3
   },
   "file_extension": ".py",
   "mimetype": "text/x-python",
   "name": "python",
   "nbconvert_exporter": "python",
   "pygments_lexer": "ipython3",
   "version": "3.11.13"
  }
 },
 "nbformat": 4,
 "nbformat_minor": 5
}
