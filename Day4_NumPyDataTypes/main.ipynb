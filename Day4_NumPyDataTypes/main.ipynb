{
 "cells": [
  {
   "cell_type": "markdown",
   "id": "f10f1989",
   "metadata": {},
   "source": [
    "#### Data Types in Python \n",
    "\n",
    "By default python have these data types: \n",
    "\n",
    "- strings - used to represent text data, the text is given under quote marks e.g. \"ABCD\" \n",
    "- integer - used to represent numerical values e.g. -1, -1, 3\n",
    "- boolean - used to represent true or false\n",
    "- float - used to represent real numbers e.g. 1.2, 3.4\n",
    "- complex - used to represent complex numbers e.g. 1.0 + 2.0 j, 1.5 + 2.5 j\n",
    "\n",
    "#### Data Types in NumPy \n",
    "\n",
    "By default NumPy has some extra data types and they are refer in one characters like i for integers, u for unsigned integers etc. \n",
    "\n",
    "- i - integer\n",
    "- b - boolean\n",
    "- u - unsigned integer \n",
    "- f - float\n",
    "- c - complex float \n",
    "- m - timedelta\n",
    "- M - datetime \n",
    "- O - object\n",
    "- S - string \n",
    "- U - unicode string \n",
    "- V - fixed chunk of memory for other type (void)"
   ]
  },
  {
   "cell_type": "markdown",
   "id": "90f60efc",
   "metadata": {},
   "source": [
    "#### Creating the Data Type of an Array"
   ]
  },
  {
   "cell_type": "code",
   "execution_count": 1,
   "id": "147c0c84",
   "metadata": {},
   "outputs": [
    {
     "name": "stdout",
     "output_type": "stream",
     "text": [
      "int32\n"
     ]
    }
   ],
   "source": [
    "import numpy as np \n",
    "\n",
    "# we can check the Data Type of an Array by using property called dtype \n",
    "arr = np.array([1, 2, 3, 4])\n",
    "print(arr.dtype)"
   ]
  },
  {
   "cell_type": "code",
   "execution_count": 2,
   "id": "d87795f8",
   "metadata": {},
   "outputs": [
    {
     "name": "stdout",
     "output_type": "stream",
     "text": [
      "<U8\n"
     ]
    }
   ],
   "source": [
    "arr1 = np.array(['shiva', 'anjelika', 'jevis', 'samprad'])\n",
    "print(arr1.dtype)"
   ]
  },
  {
   "cell_type": "code",
   "execution_count": 3,
   "id": "92eaf2d7",
   "metadata": {},
   "outputs": [
    {
     "name": "stdout",
     "output_type": "stream",
     "text": [
      "[b'1' b'2' b'3' b'4']\n",
      "dtype of arr:  |S1\n"
     ]
    }
   ],
   "source": [
    "# creating arrays with a defined data type\n",
    "arr2 = np.array([1, 2, 3, 4], dtype='S') \n",
    "print(arr2)\n",
    "print(\"dtype of arr: \", arr2.dtype)"
   ]
  },
  {
   "cell_type": "code",
   "execution_count": 4,
   "id": "fba7a075",
   "metadata": {},
   "outputs": [
    {
     "name": "stdout",
     "output_type": "stream",
     "text": [
      "int32\n"
     ]
    }
   ],
   "source": [
    "# Creating an array with data type 4 bytes integers \n",
    "arr = np.array([1, 2, 3, 4], dtype='i4')\n",
    "print(arr.dtype)"
   ]
  },
  {
   "cell_type": "markdown",
   "id": "27de7b51",
   "metadata": {},
   "source": [
    "#### if the type conversion value is incorrect creates Value Error"
   ]
  },
  {
   "cell_type": "code",
   "execution_count": 5,
   "id": "f9fa923b",
   "metadata": {},
   "outputs": [
    {
     "ename": "ValueError",
     "evalue": "invalid literal for int() with base 10: 'a'",
     "output_type": "error",
     "traceback": [
      "\u001b[31m---------------------------------------------------------------------------\u001b[39m",
      "\u001b[31mValueError\u001b[39m                                Traceback (most recent call last)",
      "\u001b[36mCell\u001b[39m\u001b[36m \u001b[39m\u001b[32mIn[5]\u001b[39m\u001b[32m, line 4\u001b[39m\n\u001b[32m      1\u001b[39m \u001b[38;5;66;03m# what if a value cannot be converted ? \u001b[39;00m\n\u001b[32m      2\u001b[39m \u001b[38;5;66;03m# in Python if ValueError is raised when the type of passed argument is incorrect. \u001b[39;00m\n\u001b[32m----> \u001b[39m\u001b[32m4\u001b[39m arr3 = np.array([\u001b[33m'\u001b[39m\u001b[33m1\u001b[39m\u001b[33m'\u001b[39m, \u001b[33m'\u001b[39m\u001b[33ma\u001b[39m\u001b[33m'\u001b[39m, \u001b[33m'\u001b[39m\u001b[33m3\u001b[39m\u001b[33m'\u001b[39m], dtype=\u001b[33m'\u001b[39m\u001b[33mi\u001b[39m\u001b[33m'\u001b[39m)\n\u001b[32m      5\u001b[39m \u001b[38;5;28mprint\u001b[39m(arr3)\n",
      "\u001b[31mValueError\u001b[39m: invalid literal for int() with base 10: 'a'"
     ]
    }
   ],
   "source": [
    "# what if a value cannot be converted ? \n",
    "# in Python if ValueError is raised when the type of passed argument is incorrect. \n",
    "\n",
    "arr3 = np.array(['1', 'a', '3'], dtype='i')\n",
    "print(arr3)"
   ]
  },
  {
   "cell_type": "markdown",
   "id": "19d0d430",
   "metadata": {},
   "source": [
    "#### Converting a Data Type on Existing Arrays"
   ]
  },
  {
   "cell_type": "code",
   "execution_count": 6,
   "id": "4a1760df",
   "metadata": {},
   "outputs": [
    {
     "name": "stdout",
     "output_type": "stream",
     "text": [
      "dtype before changing :  float64\n",
      "dtype after changing :  int32\n"
     ]
    }
   ],
   "source": [
    "# Change data type from float to integer by using 'i' as parameter value : \n",
    "arr = np.array([1.1, 2.1, 3.1, 4.1])\n",
    "print(\"dtype before changing : \", arr.dtype)\n",
    "newarr = arr.astype('i')\n",
    "print(\"dtype after changing : \", newarr.dtype)"
   ]
  },
  {
   "cell_type": "code",
   "execution_count": 7,
   "id": "03e3ba60",
   "metadata": {},
   "outputs": [
    {
     "name": "stdout",
     "output_type": "stream",
     "text": [
      "dtype after changing manually:  int32\n"
     ]
    }
   ],
   "source": [
    "intarr = arr.astype('int')\n",
    "print(\"dtype after changing manually: \", intarr.dtype)"
   ]
  },
  {
   "cell_type": "code",
   "execution_count": 8,
   "id": "62a4268a",
   "metadata": {},
   "outputs": [
    {
     "name": "stdout",
     "output_type": "stream",
     "text": [
      "[1 0 3]\n",
      "[ True False  True] bool\n"
     ]
    }
   ],
   "source": [
    "arr = np.array([1, 0, 3])\n",
    "newarr = arr.astype(bool)\n",
    "print(arr)\n",
    "print(newarr, newarr.dtype)"
   ]
  }
 ],
 "metadata": {
  "kernelspec": {
   "display_name": "myenv",
   "language": "python",
   "name": "python3"
  },
  "language_info": {
   "codemirror_mode": {
    "name": "ipython",
    "version": 3
   },
   "file_extension": ".py",
   "mimetype": "text/x-python",
   "name": "python",
   "nbconvert_exporter": "python",
   "pygments_lexer": "ipython3",
   "version": "3.11.13"
  }
 },
 "nbformat": 4,
 "nbformat_minor": 5
}
