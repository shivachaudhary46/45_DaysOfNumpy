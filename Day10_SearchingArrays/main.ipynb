{
 "cells": [
  {
   "cell_type": "markdown",
   "id": "a552b3ee",
   "metadata": {},
   "source": [
    "# Searching Arrays \n",
    "\n",
    "You can search an array for a certain value and return the indexes that get a match. "
   ]
  },
  {
   "cell_type": "code",
   "execution_count": 1,
   "id": "6637749e",
   "metadata": {},
   "outputs": [
    {
     "name": "stdout",
     "output_type": "stream",
     "text": [
      "(array([3, 5, 6], dtype=int64),)\n"
     ]
    }
   ],
   "source": [
    "import numpy as np \n",
    "\n",
    "arr = np.array([1, 2, 3, 4, 5, 4, 4])\n",
    "\n",
    "x = np.where(arr == 4)\n",
    "\n",
    "print(x)"
   ]
  },
  {
   "cell_type": "markdown",
   "id": "4eff83a3",
   "metadata": {},
   "source": [
    "It returns the array index where the key element is present in the given array index. for example: array value 4 is present in the index number 3, 4, 5. "
   ]
  },
  {
   "cell_type": "code",
   "execution_count": 2,
   "id": "17546644",
   "metadata": {},
   "outputs": [
    {
     "name": "stdout",
     "output_type": "stream",
     "text": [
      "(array([1, 3, 5, 7, 9], dtype=int64),)\n"
     ]
    }
   ],
   "source": [
    "arr = np.array([1, 2, 3, 4, 5, 6, 7, 8, 9, 10])\n",
    "\n",
    "x = np.where(arr % 2 == 0)\n",
    "\n",
    "print(x)"
   ]
  },
  {
   "cell_type": "markdown",
   "id": "0e64bd5c",
   "metadata": {},
   "source": [
    "At the array index [1, 3, 5, 7, 9] it matches with the arr[even number], arr[2, 4, 6, 8, 10]"
   ]
  },
  {
   "cell_type": "code",
   "execution_count": 3,
   "id": "6a53113c",
   "metadata": {},
   "outputs": [
    {
     "name": "stdout",
     "output_type": "stream",
     "text": [
      "(array([0, 2, 4, 6, 8], dtype=int64),)\n"
     ]
    }
   ],
   "source": [
    "x = np.where(arr % 2 == 1)\n",
    "\n",
    "print(x)"
   ]
  },
  {
   "cell_type": "markdown",
   "id": "c3adb7a5",
   "metadata": {},
   "source": [
    "At the array index [0, 2, 4, 6, 8]. It matches with the arr[odd number] are arr[1, 3, 5, 7, 9]"
   ]
  },
  {
   "cell_type": "markdown",
   "id": "61e41f45",
   "metadata": {},
   "source": [
    "# Search Sorted Method\n",
    "This method is used in the sorted arrays. \n",
    "\n",
    "There is searchsorted() method which performs binary search in the array, and returns the index where the\n",
    "key is given to argument in the searchsorted function. "
   ]
  },
  {
   "cell_type": "code",
   "execution_count": 4,
   "id": "a916199a",
   "metadata": {},
   "outputs": [
    {
     "name": "stdout",
     "output_type": "stream",
     "text": [
      "2\n"
     ]
    }
   ],
   "source": [
    "arr = np.array([6, 7, 9, 11, 13])\n",
    "\n",
    "x = np.searchsorted(arr, 9)\n",
    "\n",
    "print(x)"
   ]
  },
  {
   "cell_type": "markdown",
   "id": "e63b0175",
   "metadata": {},
   "source": [
    "It will return the array index number where the key has matched. In above code in the index number 2 the key 9 has matched which is true. "
   ]
  },
  {
   "cell_type": "code",
   "execution_count": 8,
   "id": "0bc77cad",
   "metadata": {},
   "outputs": [
    {
     "name": "stdout",
     "output_type": "stream",
     "text": [
      "6\n"
     ]
    }
   ],
   "source": [
    "# Find the indexes where the value 7 should be inserted, starting from the right. \n",
    "\n",
    "arr = np.array([6, 7, 8, 9, 10, 11])\n",
    "\n",
    "x = np.searchsorted(arr, 11, side=\"right\")\n",
    "\n",
    "print(x)"
   ]
  },
  {
   "cell_type": "markdown",
   "id": "c3415389",
   "metadata": {},
   "source": [
    "The method starts the search from the right and returns the first index where the number 11 is no longer less than the next value."
   ]
  },
  {
   "cell_type": "markdown",
   "id": "a19ff6ff",
   "metadata": {},
   "source": [
    "Find the indexes where [2, 4, 6] should be inserted in the array. "
   ]
  },
  {
   "cell_type": "code",
   "execution_count": 9,
   "id": "a7afd23d",
   "metadata": {},
   "outputs": [
    {
     "name": "stdout",
     "output_type": "stream",
     "text": [
      "[1 2 3]\n"
     ]
    }
   ],
   "source": [
    "arr = np.array([1, 3, 5, 7])\n",
    "\n",
    "x = np.searchsorted(arr, [2, 4, 6])\n",
    "\n",
    "print(x)"
   ]
  },
  {
   "cell_type": "code",
   "execution_count": null,
   "id": "21dced76",
   "metadata": {},
   "outputs": [],
   "source": []
  }
 ],
 "metadata": {
  "kernelspec": {
   "display_name": "myenv",
   "language": "python",
   "name": "python3"
  },
  "language_info": {
   "codemirror_mode": {
    "name": "ipython",
    "version": 3
   },
   "file_extension": ".py",
   "mimetype": "text/x-python",
   "name": "python",
   "nbconvert_exporter": "python",
   "pygments_lexer": "ipython3",
   "version": "3.11.13"
  }
 },
 "nbformat": 4,
 "nbformat_minor": 5
}
