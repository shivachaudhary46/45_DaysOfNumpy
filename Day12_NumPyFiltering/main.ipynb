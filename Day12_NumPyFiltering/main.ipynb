{
 "cells": [
  {
   "cell_type": "markdown",
   "id": "e2f0dd5a",
   "metadata": {},
   "source": [
    "# Filtering and Masking of NumPy Arrays"
   ]
  },
  {
   "cell_type": "code",
   "execution_count": null,
   "id": "da9e768d",
   "metadata": {},
   "outputs": [],
   "source": [
    "import numpy as np "
   ]
  },
  {
   "cell_type": "markdown",
   "id": "68638aa5",
   "metadata": {},
   "source": [
    "# Filtering Arrays \n",
    "Getting some elements out of an existing array and creating and new array out of it is called filtering. \n",
    "\n",
    "In Numpy, you filter an array using a boolean index. \n",
    "\n",
    "***In below example i will create an array only taking the index number 0, 2 and 3***"
   ]
  },
  {
   "cell_type": "code",
   "execution_count": null,
   "id": "e64d9c9d",
   "metadata": {},
   "outputs": [],
   "source": [
    "arr = np.array([41, 42, 43, 44])\n",
    "\n",
    "x = [True, False, True, True]\n",
    "\n",
    "newarr = arr[x]\n",
    "\n",
    "print(newarr)"
   ]
  },
  {
   "cell_type": "markdown",
   "id": "2d00d9ad",
   "metadata": {},
   "source": [
    "# We cannot filter the array through this \n",
    "but we can do filter by using boolean masking values in to the double bracket. "
   ]
  },
  {
   "cell_type": "code",
   "execution_count": null,
   "id": "0f872ac6",
   "metadata": {},
   "outputs": [],
   "source": [
    "arr = np.array([1, 2, 3, 4])[True, False, True, True]\n",
    "\n",
    "print(arr)"
   ]
  },
  {
   "cell_type": "markdown",
   "id": "4a494715",
   "metadata": {},
   "source": [
    "Creating an array if the array elements is greater than 42"
   ]
  },
  {
   "cell_type": "code",
   "execution_count": null,
   "id": "a17746a7",
   "metadata": {},
   "outputs": [],
   "source": [
    "arr = np.array([41, 42, 43, 44])\n",
    "\n",
    "filter_arr = []\n",
    "\n",
    "for i in arr:\n",
    "    if i > 42 :\n",
    "        filter_arr.append(True)\n",
    "    else:\n",
    "        filter_arr.append(False)\n",
    "\n",
    "print(arr[filter_arr])"
   ]
  },
  {
   "cell_type": "markdown",
   "id": "62f2c3ea",
   "metadata": {},
   "source": [
    "# only even numbers from the given array"
   ]
  },
  {
   "cell_type": "code",
   "execution_count": null,
   "id": "f82fe802",
   "metadata": {},
   "outputs": [],
   "source": [
    "arr = np.array([42, 43, 44, 45, 46, 47, 48])\n",
    "\n",
    "filter_arr = []\n",
    "\n",
    "for element in arr :\n",
    "    if (element % 2 == 0):\n",
    "        filter_arr.append(True)\n",
    "    else:\n",
    "        filter_arr.append(False)\n",
    "\n",
    "print(arr[filter_arr])"
   ]
  },
  {
   "cell_type": "code",
   "execution_count": null,
   "id": "4223d7b9",
   "metadata": {},
   "outputs": [],
   "source": [
    "filter_arr = arr > 42\n",
    "\n",
    "print(filter_arr)"
   ]
  },
  {
   "cell_type": "code",
   "execution_count": null,
   "id": "36ebf9f9",
   "metadata": {},
   "outputs": [],
   "source": [
    "print(arr[filter_arr])"
   ]
  },
  {
   "cell_type": "markdown",
   "id": "aceda470",
   "metadata": {},
   "source": [
    "# Create a filter array that will return only even elements from the original array"
   ]
  },
  {
   "cell_type": "code",
   "execution_count": null,
   "id": "07e57d88",
   "metadata": {},
   "outputs": [],
   "source": [
    "filter_arr = arr % 2 == 1\n",
    " \n",
    "newarr = arr[filter_arr]\n",
    "\n",
    "print(newarr)"
   ]
  }
 ],
 "metadata": {
  "kernelspec": {
   "display_name": "myenv",
   "language": "python",
   "name": "python3"
  },
  "language_info": {
   "codemirror_mode": {
    "name": "ipython",
    "version": 3
   },
   "file_extension": ".py",
   "mimetype": "text/x-python",
   "name": "python",
   "nbconvert_exporter": "python",
   "pygments_lexer": "ipython3",
   "version": "3.11.13"
  }
 },
 "nbformat": 4,
 "nbformat_minor": 5
}
