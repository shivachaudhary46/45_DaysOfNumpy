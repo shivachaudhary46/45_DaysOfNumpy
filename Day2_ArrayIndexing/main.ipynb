{
 "cells": [
  {
   "cell_type": "markdown",
   "id": "6ad650e0",
   "metadata": {},
   "source": [
    "#### Array Indexing Same as Accessing Elements\n",
    "The first index is 0 and second index is 1"
   ]
  },
  {
   "cell_type": "code",
   "execution_count": 1,
   "id": "1f398eda",
   "metadata": {},
   "outputs": [],
   "source": [
    "import numpy as np"
   ]
  },
  {
   "cell_type": "code",
   "execution_count": 17,
   "id": "af19b54e",
   "metadata": {},
   "outputs": [
    {
     "ename": "IndexError",
     "evalue": "too many indices for array: array is 0-dimensional, but 1 were indexed",
     "output_type": "error",
     "traceback": [
      "\u001b[31m---------------------------------------------------------------------------\u001b[39m",
      "\u001b[31mIndexError\u001b[39m                                Traceback (most recent call last)",
      "\u001b[36mCell\u001b[39m\u001b[36m \u001b[39m\u001b[32mIn[17]\u001b[39m\u001b[32m, line 2\u001b[39m\n\u001b[32m      1\u001b[39m arr = np.array(\u001b[32m12\u001b[39m)\n\u001b[32m----> \u001b[39m\u001b[32m2\u001b[39m \u001b[38;5;28mprint\u001b[39m(\u001b[33mf\u001b[39m\u001b[33m'\u001b[39m\u001b[33marray indexing  of 0d array: \u001b[39m\u001b[38;5;132;01m{\u001b[39;00marr[\u001b[32m0\u001b[39m]\u001b[38;5;132;01m}\u001b[39;00m\u001b[33m'\u001b[39m)\n",
      "\u001b[31mIndexError\u001b[39m: too many indices for array: array is 0-dimensional, but 1 were indexed"
     ]
    }
   ],
   "source": [
    "arr = np.array(12)\n",
    "print(f'array indexing  of 0d array: {arr[0]}')"
   ]
  },
  {
   "cell_type": "markdown",
   "id": "3c0d77ac",
   "metadata": {},
   "source": [
    "#### Array Indexing of 1D Array"
   ]
  },
  {
   "cell_type": "code",
   "execution_count": 4,
   "id": "8d39bfe1",
   "metadata": {},
   "outputs": [
    {
     "name": "stdout",
     "output_type": "stream",
     "text": [
      "the 1 index is : 1\n",
      "the 2 index is : 2\n",
      "the 3 index is : 5\n"
     ]
    }
   ],
   "source": [
    "arr = np.array([1, 2, np.nan, 'shiva', 5])\n",
    "print(f'the 1 index is : {arr[0]}')\n",
    "print(f'the 2 index is : {arr[1]}')\n",
    "print(f'the 3 index is : {arr[-1]}')"
   ]
  },
  {
   "cell_type": "markdown",
   "id": "bf28435c",
   "metadata": {},
   "source": [
    "#### Array Indexing of 2D Array"
   ]
  },
  {
   "cell_type": "code",
   "execution_count": 10,
   "id": "23712419",
   "metadata": {},
   "outputs": [
    {
     "name": "stdout",
     "output_type": "stream",
     "text": [
      "access 2d array (0 row col 1) : 2.0\n",
      "access 2d array (row 1 col 0) : nan\n"
     ]
    }
   ],
   "source": [
    "arr1 = [[1, 2, 3], [np.nan, 4, 5]]\n",
    "arr1 = np.array(arr1)\n",
    "print(\"access 2d array (0 row col 1) :\", arr1[0, 1])\n",
    "print(\"access 2d array (row 1 col 0) :\", arr1[1, 0])"
   ]
  },
  {
   "cell_type": "markdown",
   "id": "a3cf8389",
   "metadata": {},
   "source": [
    "#### Array Indexing of 3D Array"
   ]
  },
  {
   "cell_type": "code",
   "execution_count": 16,
   "id": "5d7147f7",
   "metadata": {},
   "outputs": [
    {
     "name": "stdout",
     "output_type": "stream",
     "text": [
      "dimension of arr2 :  3\n",
      "accessing elements 3d array (0, 0, 0) :  1.0\n",
      "Negative indexing of 3d array (1, 2, -1) :  6.7\n"
     ]
    }
   ],
   "source": [
    "arr2 = [[[1, 2, 3], [np.nan, 3, 0], [8, 9, 10]], [[4.5, 2.2, 1.5], [5.6, 3.4, 5.6], [8.9, 2.3, 6.7]]]\n",
    "arr2 = np.array(arr2)\n",
    "print(\"dimension of arr2 : \", arr2.ndim)\n",
    "print(\"accessing elements 3d array (0, 0, 0) : \", arr2[0, 0, 0])\n",
    "print(\"Negative indexing of 3d array (1, 2, -1) : \", arr2[1, 2, -1])"
   ]
  }
 ],
 "metadata": {
  "kernelspec": {
   "display_name": "myenv",
   "language": "python",
   "name": "python3"
  },
  "language_info": {
   "codemirror_mode": {
    "name": "ipython",
    "version": 3
   },
   "file_extension": ".py",
   "mimetype": "text/x-python",
   "name": "python",
   "nbconvert_exporter": "python",
   "pygments_lexer": "ipython3",
   "version": "3.11.13"
  }
 },
 "nbformat": 4,
 "nbformat_minor": 5
}
