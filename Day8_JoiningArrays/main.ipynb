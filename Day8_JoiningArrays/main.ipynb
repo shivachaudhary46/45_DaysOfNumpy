{
 "cells": [
  {
   "cell_type": "markdown",
   "id": "7ff23346",
   "metadata": {},
   "source": [
    "#### NumPy Joining Array\n",
    "\n",
    "Joining means putting contents of two or more arrays in a single array. In SQL we join \n",
    "tables based on a key, wheras in NumPy we join arrays by axes. \n",
    "\n",
    "We pass a sequence of arrays that we want to join to the concatenate() function, along with the axis, if axis is not explicity passed, it is taken as 0.. "
   ]
  },
  {
   "cell_type": "code",
   "execution_count": 1,
   "id": "538a869e",
   "metadata": {},
   "outputs": [
    {
     "name": "stdout",
     "output_type": "stream",
     "text": [
      "[1 2 3 4 5 6]\n"
     ]
    }
   ],
   "source": [
    "import numpy as np \n",
    "\n",
    "arr1 = np.array([1, 2, 3])\n",
    "\n",
    "arr2 = np.array([4, 5, 6])\n",
    "\n",
    "arr = np.concatenate((arr1, arr2))\n",
    "\n",
    "print(arr)"
   ]
  },
  {
   "cell_type": "code",
   "execution_count": 2,
   "id": "a8f62dc7",
   "metadata": {},
   "outputs": [
    {
     "name": "stdout",
     "output_type": "stream",
     "text": [
      "[[1 2 5 6]\n",
      " [3 4 7 8]]\n"
     ]
    }
   ],
   "source": [
    "##### Example: \n",
    "\n",
    "arr1 = np.array([[1, 2], [3, 4]])\n",
    "arr2 = np.array([[5, 6], [7, 8]])\n",
    "arr = np.concatenate((arr1, arr2), axis=1)\n",
    "arr3 = np.concatenate((arr1, arr2), axis=0)\n",
    "print(arr)"
   ]
  },
  {
   "cell_type": "code",
   "execution_count": 3,
   "id": "bb2af284",
   "metadata": {},
   "outputs": [
    {
     "name": "stdout",
     "output_type": "stream",
     "text": [
      "[[1 2]\n",
      " [3 4]\n",
      " [5 6]\n",
      " [7 8]]\n"
     ]
    }
   ],
   "source": [
    "print(arr3)"
   ]
  },
  {
   "cell_type": "markdown",
   "id": "52034592",
   "metadata": {},
   "source": [
    "### Joining Arrays Using Stack Functions\n",
    "Stacking is same as concatenation, the only difference is that stacking is done along a new axis. "
   ]
  },
  {
   "cell_type": "code",
   "execution_count": 4,
   "id": "c1d03b11",
   "metadata": {},
   "outputs": [
    {
     "name": "stdout",
     "output_type": "stream",
     "text": [
      "[[1 4]\n",
      " [2 5]\n",
      " [3 6]]\n"
     ]
    }
   ],
   "source": [
    "arr1 = np.array([1, 2, 3])\n",
    "arr2 = np.array([4, 5, 6])\n",
    "arr = np.stack((arr1, arr2), axis=1)\n",
    "arr3 = np.stack((arr1, arr2), axis=0)\n",
    "print(arr)"
   ]
  },
  {
   "cell_type": "code",
   "execution_count": 5,
   "id": "fac06baa",
   "metadata": {},
   "outputs": [
    {
     "name": "stdout",
     "output_type": "stream",
     "text": [
      "[[1 2 3]\n",
      " [4 5 6]]\n"
     ]
    }
   ],
   "source": [
    "print(arr3)"
   ]
  },
  {
   "cell_type": "markdown",
   "id": "9f0fc469",
   "metadata": {},
   "source": [
    "### Stacking Along Rows\n",
    "NumPy provides a helper function: hstack() to stack along rows."
   ]
  },
  {
   "cell_type": "code",
   "execution_count": 6,
   "id": "9ae2d047",
   "metadata": {},
   "outputs": [
    {
     "name": "stdout",
     "output_type": "stream",
     "text": [
      "[1 2 3 4 5 6]\n"
     ]
    }
   ],
   "source": [
    "arr = np.hstack((arr1, arr2))\n",
    "print(arr)"
   ]
  },
  {
   "cell_type": "markdown",
   "id": "23095987",
   "metadata": {},
   "source": [
    "#### Stacking Along Columns\n",
    "NumPy provides a helper functions: vstack() to stack along columns. \n"
   ]
  },
  {
   "cell_type": "code",
   "execution_count": 7,
   "id": "1e28b654",
   "metadata": {},
   "outputs": [
    {
     "name": "stdout",
     "output_type": "stream",
     "text": [
      "[[1 2 3]\n",
      " [4 5 6]]\n"
     ]
    }
   ],
   "source": [
    "arr = np.vstack((arr1, arr2))\n",
    "print(arr)"
   ]
  },
  {
   "cell_type": "markdown",
   "id": "ca7d445f",
   "metadata": {},
   "source": [
    "#### Stacking Along Height (depth)\n",
    "NumPy provides a helper functions dstack() to stack height, which is the same as depth"
   ]
  },
  {
   "cell_type": "code",
   "execution_count": 8,
   "id": "266abc61",
   "metadata": {},
   "outputs": [
    {
     "name": "stdout",
     "output_type": "stream",
     "text": [
      "[[[1 4]\n",
      "  [2 5]\n",
      "  [3 6]]]\n"
     ]
    }
   ],
   "source": [
    "arr = np.dstack((arr1, arr2))\n",
    "print(arr)"
   ]
  },
  {
   "cell_type": "code",
   "execution_count": 9,
   "id": "30bf1824",
   "metadata": {},
   "outputs": [
    {
     "name": "stdout",
     "output_type": "stream",
     "text": [
      "normal stacking:  [[[1 2]\n",
      "  [3 4]]\n",
      "\n",
      " [[5 7]\n",
      "  [6 4]]]\n",
      "\n",
      "vertical stacking:  [[1 2]\n",
      " [3 4]\n",
      " [5 7]\n",
      " [6 4]]\n",
      "\n",
      "horizontal stacking:  [[1 2 5 7]\n",
      " [3 4 6 4]]\n",
      "\n",
      "depth stacking:  [[[1 5]\n",
      "  [2 7]]\n",
      "\n",
      " [[3 6]\n",
      "  [4 4]]]\n"
     ]
    }
   ],
   "source": [
    "arr1 = np.array([[1, 2], [3, 4]])\n",
    "arr2 = np.array([[5, 7], [6, 4]])\n",
    "\n",
    "print(\"normal stacking: \", np.stack((arr1, arr2)))\n",
    "print()\n",
    "print(\"vertical stacking: \", np.vstack((arr1, arr2)))\n",
    "print()\n",
    "print(\"horizontal stacking: \", np.hstack((arr1, arr2)))\n",
    "print()\n",
    "print(\"depth stacking: \", np.dstack((arr1, arr2)))"
   ]
  },
  {
   "cell_type": "code",
   "execution_count": null,
   "id": "6b423535",
   "metadata": {},
   "outputs": [],
   "source": []
  }
 ],
 "metadata": {
  "kernelspec": {
   "display_name": "myenv",
   "language": "python",
   "name": "python3"
  },
  "language_info": {
   "codemirror_mode": {
    "name": "ipython",
    "version": 3
   },
   "file_extension": ".py",
   "mimetype": "text/x-python",
   "name": "python",
   "nbconvert_exporter": "python",
   "pygments_lexer": "ipython3",
   "version": "3.11.13"
  }
 },
 "nbformat": 4,
 "nbformat_minor": 5
}
