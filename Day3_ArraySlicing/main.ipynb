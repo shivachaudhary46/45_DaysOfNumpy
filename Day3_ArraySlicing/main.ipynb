{
 "cells": [
  {
   "cell_type": "markdown",
   "id": "385c8ae7",
   "metadata": {},
   "source": [
    "### Slicing Arrays\n",
    "Slicing arrays means taking from one elements to given elements. \n",
    "\n",
    "##### we can pass slice like this ***arr[start : end : step]***\n",
    "\n",
    "- start : from where we begin accessing elements in given array\n",
    "- end : from where we end accessing elements \n",
    "- step : escaping "
   ]
  },
  {
   "cell_type": "code",
   "execution_count": 1,
   "id": "16401629",
   "metadata": {},
   "outputs": [],
   "source": [
    "import numpy as np"
   ]
  },
  {
   "cell_type": "markdown",
   "id": "a934abc7",
   "metadata": {},
   "source": [
    "### Slicing 1-D Arrays "
   ]
  },
  {
   "cell_type": "code",
   "execution_count": 6,
   "id": "3bcbf159",
   "metadata": {},
   "outputs": [
    {
     "name": "stdout",
     "output_type": "stream",
     "text": [
      "slicing from element 1 to 5 :  [2 3 4 5]\n",
      "slicing from start to 4 :  [1 2 3 4]\n",
      "slicing from 4 to end :  [5]\n"
     ]
    }
   ],
   "source": [
    "# We can slice like this \n",
    "arr1 = np.array([1, 2, 3, 4, 5])\n",
    "print(\"slicing from element 1 to 5 : \", arr1[1:5])\n",
    "print(\"slicing from start to 4 : \", arr1[:4])\n",
    "print(\"slicing from 4 to end : \", arr1[4:])"
   ]
  },
  {
   "cell_type": "code",
   "execution_count": 8,
   "id": "74b3681a",
   "metadata": {},
   "outputs": [
    {
     "name": "stdout",
     "output_type": "stream",
     "text": [
      "slicing step wise :  [1 3 5]\n"
     ]
    }
   ],
   "source": [
    "# we can step like this \n",
    "arr2 = np.array([1, 2, 3, 4, 5, 6])\n",
    "print(\"slicing step wise : \", arr2[::2])"
   ]
  },
  {
   "cell_type": "code",
   "execution_count": 12,
   "id": "05ef786b",
   "metadata": {},
   "outputs": [
    {
     "name": "stdout",
     "output_type": "stream",
     "text": [
      "negative slicing : [-5 -4  5  4 -2 -1  2  1]\n",
      "negative slicing : [-2 -1  2  1]\n",
      "negative slicing : [-7 -6 -5 -4  5  4 -2 -1  2  1]\n",
      "negative slicing : [-7 -6 -5]\n"
     ]
    }
   ],
   "source": [
    "# negative indexing \n",
    "arr3 = np.array([1, 2, -1, -2, 4, 5, -4, -5, -6, -7])\n",
    "print(\"negative slicing :\", arr3[-3: : -1])\n",
    "print(\"negative slicing :\", arr3[3: : -1])\n",
    "print(\"negative slicing :\", arr3[::-1])\n",
    "print(\"negative slicing :\", arr3[-1: -4: -1])"
   ]
  },
  {
   "cell_type": "code",
   "execution_count": 15,
   "id": "ff449836",
   "metadata": {},
   "outputs": [
    {
     "name": "stdout",
     "output_type": "stream",
     "text": [
      "negative slicing :  [-2  5]\n"
     ]
    }
   ],
   "source": [
    "print(\"negative slicing : \", arr3[3: -4: 2])"
   ]
  },
  {
   "cell_type": "code",
   "execution_count": 17,
   "id": "32d61719",
   "metadata": {},
   "outputs": [
    {
     "name": "stdout",
     "output_type": "stream",
     "text": [
      "actua slicing:  [ 1  2 -1 -2  4  5 -4 -5 -6 -7]\n",
      "negative slicing : [-5 -4  5  4 -2]\n"
     ]
    }
   ],
   "source": [
    "print(\"actua slicing: \", arr3)\n",
    "print(\"negative slicing :\", arr3[-3: 2: -1])"
   ]
  },
  {
   "cell_type": "markdown",
   "id": "383efa65",
   "metadata": {},
   "source": [
    "### Slicing 2-D Arrays "
   ]
  },
  {
   "cell_type": "code",
   "execution_count": 19,
   "id": "5f52d28e",
   "metadata": {},
   "outputs": [
    {
     "name": "stdout",
     "output_type": "stream",
     "text": [
      "slicing :  [1 2 3 4]\n"
     ]
    }
   ],
   "source": [
    "arr_2D = np.array([[1, 2, 3, 4, 5], [3, 4, 5, 6, 7]])\n",
    "print(\"slicing : \", arr_2D[0, :4])"
   ]
  },
  {
   "cell_type": "code",
   "execution_count": 20,
   "id": "00d57bc4",
   "metadata": {},
   "outputs": [
    {
     "name": "stdout",
     "output_type": "stream",
     "text": [
      "negative slicing:  [5 7]\n"
     ]
    }
   ],
   "source": [
    "print(\"negative slicing: \", arr_2D[: , -1])"
   ]
  },
  {
   "cell_type": "code",
   "execution_count": 22,
   "id": "e2a4f941",
   "metadata": {},
   "outputs": [
    {
     "name": "stdout",
     "output_type": "stream",
     "text": [
      "slicing with  [[3]\n",
      " [5]]\n"
     ]
    }
   ],
   "source": [
    "print(\"slicing with \", arr_2D[:, -3:1: -1])"
   ]
  },
  {
   "cell_type": "code",
   "execution_count": 23,
   "id": "ca4e2488",
   "metadata": {},
   "outputs": [
    {
     "name": "stdout",
     "output_type": "stream",
     "text": [
      "slicing with :  [[3 4 5]\n",
      " [5 6 7]]\n"
     ]
    }
   ],
   "source": [
    "print(\"slicing with : \", arr_2D[:, -3: ])"
   ]
  },
  {
   "cell_type": "code",
   "execution_count": 24,
   "id": "9b8ff478",
   "metadata": {},
   "outputs": [
    {
     "name": "stdout",
     "output_type": "stream",
     "text": [
      "slicing with array:  [3 4]\n"
     ]
    }
   ],
   "source": [
    "print(\"slicing with array: \", arr_2D[1, :-3])"
   ]
  }
 ],
 "metadata": {
  "kernelspec": {
   "display_name": "myenv",
   "language": "python",
   "name": "python3"
  },
  "language_info": {
   "codemirror_mode": {
    "name": "ipython",
    "version": 3
   },
   "file_extension": ".py",
   "mimetype": "text/x-python",
   "name": "python",
   "nbconvert_exporter": "python",
   "pygments_lexer": "ipython3",
   "version": "3.11.13"
  }
 },
 "nbformat": 4,
 "nbformat_minor": 5
}
